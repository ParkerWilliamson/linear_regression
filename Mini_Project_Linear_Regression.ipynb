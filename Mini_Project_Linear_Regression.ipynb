{
 "cells": [
  {
   "cell_type": "markdown",
   "metadata": {},
   "source": [
    "# Regression in Python\n",
    "\n",
    "***\n",
    "This is a very quick run-through of some basic statistical concepts, adapted from [Lab 4 in Harvard's CS109](https://github.com/cs109/2015lab4) course. Please feel free to try the original lab if you're feeling ambitious :-) The CS109 git repository also has the solutions if you're stuck.\n",
    "\n",
    "* Linear Regression Models\n",
    "* Prediction using linear regression\n",
    "\n",
    "Linear regression is used to model and predict continuous outcomes with normal random errors. There are nearly an infinite number of different types of regression models and each regression model is typically defined by the distribution of the prediction errors (called \"residuals\") of the type of data. Logistic regression is used to model binary outcomes whereas Poisson regression is used to predict counts. In this exercise, we'll see some examples of linear regression as well as Train-test splits.\n",
    "\n",
    "The packages we'll cover are: `statsmodels`, `seaborn`, and `scikit-learn`. While we don't explicitly teach `statsmodels` and `seaborn` in the Springboard workshop, those are great libraries to know.\n",
    "***"
   ]
  },
  {
   "cell_type": "markdown",
   "metadata": {},
   "source": [
    "<img width=600 height=300 src=\"https://imgs.xkcd.com/comics/sustainable.png\"/>\n",
    "***"
   ]
  },
  {
   "cell_type": "code",
   "execution_count": null,
   "metadata": {},
   "outputs": [],
   "source": [
    "# special IPython command to prepare the notebook for matplotlib and other libraries\n",
    "%matplotlib inline \n",
    "\n",
    "import numpy as np\n",
    "import pandas as pd\n",
    "import scipy.stats as stats\n",
    "import matplotlib.pyplot as plt\n",
    "import sklearn\n",
    "\n",
    "import seaborn as sns\n",
    "\n",
    "# special matplotlib argument for improved plots\n",
    "from matplotlib import rcParams\n",
    "sns.set_style(\"whitegrid\")\n",
    "sns.set_context(\"poster\")\n"
   ]
  },
  {
   "cell_type": "markdown",
   "metadata": {},
   "source": [
    "***\n",
    "# Part 1: Introduction to Linear Regression\n",
    "### Purpose of linear regression\n",
    "***\n",
    "<div class=\"span5 alert alert-info\">\n",
    "\n",
    "<p> Given a dataset containing predictor variables $X$ and outcome/response variable $Y$, linear regression can be used to: </p>\n",
    "<ul>\n",
    "  <li> Build a <b>predictive model</b> to predict future values of $\\hat{Y}$, using new data $X^*$ where $Y$ is unknown.</li>\n",
    "  <li> Model the <b>strength of the relationship</b> between each independent variable $X_i$ and $Y$</li>\n",
    "    <ul>\n",
    "      <li> Many times, only a subset of independent variables $X_i$ will have a linear relationship with $Y$</li>\n",
    "      <li> Need to figure out which $X_i$ contributes most information to predict $Y$ </li>\n",
    "    </ul>\n",
    "   <li>It is in many cases, the first pass prediction algorithm for continuous outcomes. </li>\n",
    "</ul>\n",
    "</div>\n",
    "\n",
    "### A Brief Mathematical Recap\n",
    "***\n",
    "\n",
    "[Linear Regression](http://en.wikipedia.org/wiki/Linear_regression) is a method to model the relationship between a set of independent variables $X$ (also knowns as explanatory variables, features, predictors) and a dependent variable $Y$.  This method assumes the relationship between each predictor $X$ is **linearly** related to the dependent variable $Y$. The most basic linear regression model contains one independent variable $X$, we'll call this the simple model. \n",
    "\n",
    "$$ Y = \\beta_0 + \\beta_1 X + \\epsilon$$\n",
    "\n",
    "where $\\epsilon$ is considered as an unobservable random variable that adds noise to the linear relationship. In linear regression, $\\epsilon$ is assumed to be normally distributed with a mean of 0. In other words, what this means is that on average, if we know $Y$, a roughly equal number of predictions $\\hat{Y}$ will be above $Y$ and others will be below $Y$. That is, on average, the error is zero. The residuals, $\\epsilon$ are also assumed to be \"i.i.d.\": independently and identically distributed. Independence means that the residuals are not correlated -- the residual from one prediction has no effect on the residual from another prediction. Correlated errors are common in time series analysis and spatial analyses.\n",
    "\n",
    "* $\\beta_0$ is the intercept of the linear model and represents the average of $Y$ when all independent variables $X$ are set to 0.\n",
    "\n",
    "* $\\beta_1$ is the slope of the line associated with the regression model and represents the average effect of a one-unit increase in $X$ on $Y$.\n",
    "\n",
    "* Back to the simple model. The model in linear regression is the *conditional mean* of $Y$ given the values in $X$ is expressed a linear function.  \n",
    "\n",
    "$$ y = f(x) = E(Y | X = x)$$ \n",
    "\n",
    "![conditional mean](images/conditionalmean.png)\n",
    "http://www.learner.org/courses/againstallodds/about/glossary.html\n",
    "\n",
    "* The goal is to estimate the coefficients (e.g. $\\beta_0$ and $\\beta_1$). We represent the estimates of the coefficients with a \"hat\" on top of the letter.  \n",
    "\n",
    "$$ \\hat{\\beta}_0, \\hat{\\beta}_1 $$\n",
    "\n",
    "* Once we estimate the coefficients $\\hat{\\beta}_0$ and $\\hat{\\beta}_1$, we can use these to predict new values of $Y$ given new data $X$.\n",
    "\n",
    "$$\\hat{y} = \\hat{\\beta}_0 + \\hat{\\beta}_1 x_1$$\n",
    "\n",
    "* Multiple linear regression is when you have more than one independent variable and the estimation involves matrices\n",
    "    * $X_1$, $X_2$, $X_3$, $\\ldots$\n",
    "\n",
    "\n",
    "* How do you estimate the coefficients? \n",
    "    * There are many ways to fit a linear regression model\n",
    "    * The method called **least squares** is the most common methods\n",
    "    * We will discuss least squares\n",
    "\n",
    "$$ Y = \\beta_0 + \\beta_1 X_1 + \\ldots + \\beta_p X_p + \\epsilon$$ \n",
    "    \n",
    "### Estimating $\\hat\\beta$: Least squares\n",
    "***\n",
    "[Least squares](http://en.wikipedia.org/wiki/Least_squares) is a method that can estimate the coefficients of a linear model by minimizing the squared residuals: \n",
    "\n",
    "$$ \\mathscr{L} = \\sum_{i=1}^N \\epsilon_i = \\sum_{i=1}^N \\left( y_i - \\hat{y}_i \\right)^2  = \\sum_{i=1}^N \\left(y_i - \\left(\\beta_0 + \\beta_1 x_i\\right)\\right)^2 $$\n",
    "\n",
    "where $N$ is the number of observations and $\\epsilon$ represents a residual or error, ACTUAL - PREDICTED.  \n",
    "\n",
    "#### Estimating the intercept $\\hat{\\beta_0}$ for the simple linear model\n",
    "\n",
    "We want to minimize the squared residuals and solve for $\\hat{\\beta_0}$ so we take the partial derivative of $\\mathscr{L}$ with respect to $\\hat{\\beta_0}$ "
   ]
  },
  {
   "cell_type": "markdown",
   "metadata": {},
   "source": [
    "$\n",
    "\\begin{align}\n",
    "\\frac{\\partial \\mathscr{L}}{\\partial \\hat{\\beta_0}} &= \\frac{\\partial}{\\partial \\hat{\\beta_0}} \\sum_{i=1}^N \\epsilon^2 \\\\\n",
    "&= \\frac{\\partial}{\\partial \\hat{\\beta_0}} \\sum_{i=1}^N \\left( y_i - \\hat{y}_i \\right)^2 \\\\\n",
    "&= \\frac{\\partial}{\\partial \\hat{\\beta_0}} \\sum_{i=1}^N \\left( y_i - \\left( \\hat{\\beta}_0 + \\hat{\\beta}_1 x_i \\right) \\right)^2 \\\\\n",
    "&= -2 \\sum_{i=1}^N \\left( y_i - \\left( \\hat{\\beta}_0 + \\hat{\\beta}_1 x_i \\right) \\right) \\hspace{25mm} \\mbox{(by chain rule)} \\\\\n",
    "&= -2 \\sum_{i=1}^N y_i - \\hat{\\beta}_0 - \\hat{\\beta}_1 x_i \\\\\n",
    "&= -2 \\left[ \\left( \\sum_{i=1}^N y_i \\right) - n \\hat{\\beta_0} - \\hat{\\beta}_1 \\left( \\sum_{i=1}^N x_i\n",
    "\\right) \\right] \\\\\n",
    "& 2 \\left[ n \\hat{\\beta}_0 + \\hat{\\beta}_1 \\sum_{i=1}^N x_i - \\sum_{i=1}^N y_i \\right] = 0 \\hspace{20mm} \\mbox{(Set equal to 0 and solve for $\\hat{\\beta}_0$)} \\\\\n",
    "& n \\hat{\\beta}_0 + \\hat{\\beta}_1 \\sum_{i=1}^N x_i - \\sum{i=1}^N y_i = 0 \\\\\n",
    "& n \\hat{\\beta}_0 = \\sum_{i=1}^N y_i - \\hat{\\beta}_1 \\sum_{i=1}^N x_i \\\\\n",
    "& \\hat{\\beta}_0 = \\frac{\\sum_{i=1}^N y_i - \\hat{\\beta}_1 \\sum_{i=1}^N x_i}{n} \\\\\n",
    "& \\hat{\\beta}_0 = \\frac{\\sum_{i=1}^N y_i}{n} - \\hat{\\beta}_1 \\frac{\\sum_{i=1}^N x_i}{n} \\\\\n",
    "& \\boxed{\\hat{\\beta}_0 = \\bar{y} - \\hat{\\beta}_1 \\bar{x}}\n",
    "\\end{align}\n",
    "$"
   ]
  },
  {
   "cell_type": "markdown",
   "metadata": {},
   "source": [
    "Using this new information, we can compute the estimate for $\\hat{\\beta}_1$ by taking the partial derivative of $\\mathscr{L}$ with respect to $\\hat{\\beta}_1$."
   ]
  },
  {
   "cell_type": "markdown",
   "metadata": {},
   "source": [
    "$\n",
    "\\begin{align}\n",
    "\\frac{\\partial \\mathscr{L}}{\\partial \\hat{\\beta_1}} &= \\frac{\\partial}{\\partial \\hat{\\beta_1}} \\sum_{i=1}^N \\epsilon^2 \\\\\n",
    "&= \\frac{\\partial}{\\partial \\hat{\\beta_1}} \\sum_{i=1}^N \\left( y_i - \\hat{y}_i \\right)^2 \\\\\n",
    "&= \\frac{\\partial}{\\partial \\hat{\\beta_1}} \\sum_{i=1}^N \\left( y_i - \\left( \\hat{\\beta}_0 + \\hat{\\beta}_1 x_i \\right) \\right)^2 \\\\\n",
    "&= 2 \\sum_{i=1}^N \\left( y_i - \\left( \\hat{\\beta}_0 + \\hat{\\beta}_1 x_i \\right) \\right) \\left( -x_i \\right) \\hspace{25mm}\\mbox{(by chain rule)} \\\\\n",
    "&= -2 \\sum_{i=1}^N x_i \\left( y_i - \\hat{\\beta}_0 - \\hat{\\beta}_1 x_i \\right) \\\\\n",
    "&= -2 \\sum_{i=1}^N x_i y_i - \\hat{\\beta}_0 x_i - \\hat{\\beta}_1 x_i^2 \\\\\n",
    "&= -2 \\sum_{i=1}^N x_i y_i - \\left( \\bar{y} - \\hat{\\beta}_1 \\bar{x} \\right) x_i - \\hat{\\beta}_1 x_i^2 \\\\\n",
    "&= -2 \\sum_{i=1}^N x_i y_i - \\bar{y}x_i + \\hat{\\beta}_1\\bar{x}x_i - \\hat{\\beta}_1 x_i^2 \\\\\n",
    "&= -2 \\left[ \\sum_{i=1}^N x_i y_i - \\bar{y} \\sum_{i=1}^N x_i + \\hat{\\beta}_1\\bar{x} - \\hat{\\beta}_1 x_i^2 \\right] \\\\\n",
    "&= -2 \\left[ \\hat{\\beta}_1 \\left\\{ \\bar{x} \\sum_{i=1}^N x_i - \\sum_{i=1}^N x_i^2 \\right\\} + \\left\\{ \\sum_{i=1}^N x_i y_i - \\bar{y} \\sum_{i=1}^N x_i \\right\\}\\right] \\\\\n",
    "& 2 \\left[ \\hat{\\beta}_1 \\left\\{ \\sum_{i=1}^N x_i^2 - \\bar{x} \\sum_{i=1}^N x_i \\right\\} + \\left\\{ \\bar{y} \\sum_{i=1}^N x_i - \\sum_{i=1}^N x_i y_i \\right\\} \\right] = 0 \\\\\n",
    "& \\hat{\\beta}_1 = \\frac{-\\left( \\bar{y} \\sum_{i=1}^N x_i - \\sum_{i=1}^N x_i y_i \\right)}{\\sum_{i=1}^N x_i^2 - \\bar{x}\\sum_{i=1}^N x_i} \\\\\n",
    "&= \\frac{\\sum_{i=1}^N x_i y_i - \\bar{y} \\sum_{i=1}^N x_i}{\\sum_{i=1}^N x_i^2 - \\bar{x} \\sum_{i=1}^N x_i} \\\\\n",
    "& \\boxed{\\hat{\\beta}_1 = \\frac{\\sum_{i=1}^N x_i y_i - \\bar{x}\\bar{y}n}{\\sum_{i=1}^N x_i^2 - n \\bar{x}^2}}\n",
    "\\end{align}\n",
    "$"
   ]
  },
  {
   "cell_type": "markdown",
   "metadata": {},
   "source": [
    "The solution can be written in compact matrix notation as\n",
    "\n",
    "$$\\hat\\beta =  (X^T X)^{-1}X^T Y$$ \n",
    "\n",
    "We wanted to show you this in case you remember linear algebra, in order for this solution to exist we need $X^T X$ to be invertible. Of course this requires a few extra assumptions, $X$ must be full rank so that $X^T X$ is invertible, etc. Basically, $X^T X$ is full rank if all rows and columns are linearly independent. This has a loose relationship to variables and observations being independent respective. **This is important for us because this means that having redundant features in our regression models will lead to poorly fitting (and unstable) models.** We'll see an implementation of this in the extra linear regression example."
   ]
  },
  {
   "cell_type": "markdown",
   "metadata": {},
   "source": [
    "***\n",
    "# Part 2: Exploratory Data Analysis for Linear Relationships\n",
    "\n",
    "The [Boston Housing data set](https://archive.ics.uci.edu/ml/datasets/Housing) contains information about the housing values in suburbs of Boston.  This dataset was originally taken from the StatLib library which is maintained at Carnegie Mellon University and is now available on the UCI Machine Learning Repository. \n",
    "\n",
    "\n",
    "## Load the Boston Housing data set from `sklearn`\n",
    "***\n",
    "\n",
    "This data set is available in the [sklearn](http://scikit-learn.org/stable/modules/generated/sklearn.datasets.load_boston.html#sklearn.datasets.load_boston) python module which is how we will access it today.  "
   ]
  },
  {
   "cell_type": "code",
   "execution_count": 1,
   "metadata": {},
   "outputs": [],
   "source": [
    "from sklearn.datasets import load_boston\n",
    "import pandas as pd\n",
    "\n",
    "boston = load_boston()"
   ]
  },
  {
   "cell_type": "code",
   "execution_count": 2,
   "metadata": {},
   "outputs": [
    {
     "data": {
      "text/plain": [
       "dict_keys(['data', 'target', 'feature_names', 'DESCR'])"
      ]
     },
     "execution_count": 2,
     "metadata": {},
     "output_type": "execute_result"
    }
   ],
   "source": [
    "boston.keys()"
   ]
  },
  {
   "cell_type": "code",
   "execution_count": 3,
   "metadata": {},
   "outputs": [
    {
     "data": {
      "text/plain": [
       "(506, 13)"
      ]
     },
     "execution_count": 3,
     "metadata": {},
     "output_type": "execute_result"
    }
   ],
   "source": [
    "boston.data.shape"
   ]
  },
  {
   "cell_type": "code",
   "execution_count": 4,
   "metadata": {},
   "outputs": [
    {
     "name": "stdout",
     "output_type": "stream",
     "text": [
      "['CRIM' 'ZN' 'INDUS' 'CHAS' 'NOX' 'RM' 'AGE' 'DIS' 'RAD' 'TAX' 'PTRATIO'\n",
      " 'B' 'LSTAT']\n"
     ]
    }
   ],
   "source": [
    "# Print column names\n",
    "print(boston.feature_names)"
   ]
  },
  {
   "cell_type": "code",
   "execution_count": 5,
   "metadata": {},
   "outputs": [
    {
     "name": "stdout",
     "output_type": "stream",
     "text": [
      "Boston House Prices dataset\n",
      "===========================\n",
      "\n",
      "Notes\n",
      "------\n",
      "Data Set Characteristics:  \n",
      "\n",
      "    :Number of Instances: 506 \n",
      "\n",
      "    :Number of Attributes: 13 numeric/categorical predictive\n",
      "    \n",
      "    :Median Value (attribute 14) is usually the target\n",
      "\n",
      "    :Attribute Information (in order):\n",
      "        - CRIM     per capita crime rate by town\n",
      "        - ZN       proportion of residential land zoned for lots over 25,000 sq.ft.\n",
      "        - INDUS    proportion of non-retail business acres per town\n",
      "        - CHAS     Charles River dummy variable (= 1 if tract bounds river; 0 otherwise)\n",
      "        - NOX      nitric oxides concentration (parts per 10 million)\n",
      "        - RM       average number of rooms per dwelling\n",
      "        - AGE      proportion of owner-occupied units built prior to 1940\n",
      "        - DIS      weighted distances to five Boston employment centres\n",
      "        - RAD      index of accessibility to radial highways\n",
      "        - TAX      full-value property-tax rate per $10,000\n",
      "        - PTRATIO  pupil-teacher ratio by town\n",
      "        - B        1000(Bk - 0.63)^2 where Bk is the proportion of blacks by town\n",
      "        - LSTAT    % lower status of the population\n",
      "        - MEDV     Median value of owner-occupied homes in $1000's\n",
      "\n",
      "    :Missing Attribute Values: None\n",
      "\n",
      "    :Creator: Harrison, D. and Rubinfeld, D.L.\n",
      "\n",
      "This is a copy of UCI ML housing dataset.\n",
      "http://archive.ics.uci.edu/ml/datasets/Housing\n",
      "\n",
      "\n",
      "This dataset was taken from the StatLib library which is maintained at Carnegie Mellon University.\n",
      "\n",
      "The Boston house-price data of Harrison, D. and Rubinfeld, D.L. 'Hedonic\n",
      "prices and the demand for clean air', J. Environ. Economics & Management,\n",
      "vol.5, 81-102, 1978.   Used in Belsley, Kuh & Welsch, 'Regression diagnostics\n",
      "...', Wiley, 1980.   N.B. Various transformations are used in the table on\n",
      "pages 244-261 of the latter.\n",
      "\n",
      "The Boston house-price data has been used in many machine learning papers that address regression\n",
      "problems.   \n",
      "     \n",
      "**References**\n",
      "\n",
      "   - Belsley, Kuh & Welsch, 'Regression diagnostics: Identifying Influential Data and Sources of Collinearity', Wiley, 1980. 244-261.\n",
      "   - Quinlan,R. (1993). Combining Instance-Based and Model-Based Learning. In Proceedings on the Tenth International Conference of Machine Learning, 236-243, University of Massachusetts, Amherst. Morgan Kaufmann.\n",
      "   - many more! (see http://archive.ics.uci.edu/ml/datasets/Housing)\n",
      "\n"
     ]
    }
   ],
   "source": [
    "# Print description of Boston housing data set\n",
    "print(boston.DESCR)"
   ]
  },
  {
   "cell_type": "markdown",
   "metadata": {},
   "source": [
    "Now let's explore the data set itself. "
   ]
  },
  {
   "cell_type": "code",
   "execution_count": 6,
   "metadata": {},
   "outputs": [
    {
     "data": {
      "text/html": [
       "<div>\n",
       "<style>\n",
       "    .dataframe thead tr:only-child th {\n",
       "        text-align: right;\n",
       "    }\n",
       "\n",
       "    .dataframe thead th {\n",
       "        text-align: left;\n",
       "    }\n",
       "\n",
       "    .dataframe tbody tr th {\n",
       "        vertical-align: top;\n",
       "    }\n",
       "</style>\n",
       "<table border=\"1\" class=\"dataframe\">\n",
       "  <thead>\n",
       "    <tr style=\"text-align: right;\">\n",
       "      <th></th>\n",
       "      <th>0</th>\n",
       "      <th>1</th>\n",
       "      <th>2</th>\n",
       "      <th>3</th>\n",
       "      <th>4</th>\n",
       "      <th>5</th>\n",
       "      <th>6</th>\n",
       "      <th>7</th>\n",
       "      <th>8</th>\n",
       "      <th>9</th>\n",
       "      <th>10</th>\n",
       "      <th>11</th>\n",
       "      <th>12</th>\n",
       "    </tr>\n",
       "  </thead>\n",
       "  <tbody>\n",
       "    <tr>\n",
       "      <th>0</th>\n",
       "      <td>0.00632</td>\n",
       "      <td>18.0</td>\n",
       "      <td>2.31</td>\n",
       "      <td>0.0</td>\n",
       "      <td>0.538</td>\n",
       "      <td>6.575</td>\n",
       "      <td>65.2</td>\n",
       "      <td>4.0900</td>\n",
       "      <td>1.0</td>\n",
       "      <td>296.0</td>\n",
       "      <td>15.3</td>\n",
       "      <td>396.90</td>\n",
       "      <td>4.98</td>\n",
       "    </tr>\n",
       "    <tr>\n",
       "      <th>1</th>\n",
       "      <td>0.02731</td>\n",
       "      <td>0.0</td>\n",
       "      <td>7.07</td>\n",
       "      <td>0.0</td>\n",
       "      <td>0.469</td>\n",
       "      <td>6.421</td>\n",
       "      <td>78.9</td>\n",
       "      <td>4.9671</td>\n",
       "      <td>2.0</td>\n",
       "      <td>242.0</td>\n",
       "      <td>17.8</td>\n",
       "      <td>396.90</td>\n",
       "      <td>9.14</td>\n",
       "    </tr>\n",
       "    <tr>\n",
       "      <th>2</th>\n",
       "      <td>0.02729</td>\n",
       "      <td>0.0</td>\n",
       "      <td>7.07</td>\n",
       "      <td>0.0</td>\n",
       "      <td>0.469</td>\n",
       "      <td>7.185</td>\n",
       "      <td>61.1</td>\n",
       "      <td>4.9671</td>\n",
       "      <td>2.0</td>\n",
       "      <td>242.0</td>\n",
       "      <td>17.8</td>\n",
       "      <td>392.83</td>\n",
       "      <td>4.03</td>\n",
       "    </tr>\n",
       "    <tr>\n",
       "      <th>3</th>\n",
       "      <td>0.03237</td>\n",
       "      <td>0.0</td>\n",
       "      <td>2.18</td>\n",
       "      <td>0.0</td>\n",
       "      <td>0.458</td>\n",
       "      <td>6.998</td>\n",
       "      <td>45.8</td>\n",
       "      <td>6.0622</td>\n",
       "      <td>3.0</td>\n",
       "      <td>222.0</td>\n",
       "      <td>18.7</td>\n",
       "      <td>394.63</td>\n",
       "      <td>2.94</td>\n",
       "    </tr>\n",
       "    <tr>\n",
       "      <th>4</th>\n",
       "      <td>0.06905</td>\n",
       "      <td>0.0</td>\n",
       "      <td>2.18</td>\n",
       "      <td>0.0</td>\n",
       "      <td>0.458</td>\n",
       "      <td>7.147</td>\n",
       "      <td>54.2</td>\n",
       "      <td>6.0622</td>\n",
       "      <td>3.0</td>\n",
       "      <td>222.0</td>\n",
       "      <td>18.7</td>\n",
       "      <td>396.90</td>\n",
       "      <td>5.33</td>\n",
       "    </tr>\n",
       "  </tbody>\n",
       "</table>\n",
       "</div>"
      ],
      "text/plain": [
       "        0     1     2    3      4      5     6       7    8      9     10  \\\n",
       "0  0.00632  18.0  2.31  0.0  0.538  6.575  65.2  4.0900  1.0  296.0  15.3   \n",
       "1  0.02731   0.0  7.07  0.0  0.469  6.421  78.9  4.9671  2.0  242.0  17.8   \n",
       "2  0.02729   0.0  7.07  0.0  0.469  7.185  61.1  4.9671  2.0  242.0  17.8   \n",
       "3  0.03237   0.0  2.18  0.0  0.458  6.998  45.8  6.0622  3.0  222.0  18.7   \n",
       "4  0.06905   0.0  2.18  0.0  0.458  7.147  54.2  6.0622  3.0  222.0  18.7   \n",
       "\n",
       "       11    12  \n",
       "0  396.90  4.98  \n",
       "1  396.90  9.14  \n",
       "2  392.83  4.03  \n",
       "3  394.63  2.94  \n",
       "4  396.90  5.33  "
      ]
     },
     "execution_count": 6,
     "metadata": {},
     "output_type": "execute_result"
    }
   ],
   "source": [
    "bos = pd.DataFrame(boston.data)\n",
    "bos.head()"
   ]
  },
  {
   "cell_type": "markdown",
   "metadata": {},
   "source": [
    "There are no column names in the DataFrame. Let's add those. "
   ]
  },
  {
   "cell_type": "code",
   "execution_count": 7,
   "metadata": {},
   "outputs": [
    {
     "data": {
      "text/html": [
       "<div>\n",
       "<style>\n",
       "    .dataframe thead tr:only-child th {\n",
       "        text-align: right;\n",
       "    }\n",
       "\n",
       "    .dataframe thead th {\n",
       "        text-align: left;\n",
       "    }\n",
       "\n",
       "    .dataframe tbody tr th {\n",
       "        vertical-align: top;\n",
       "    }\n",
       "</style>\n",
       "<table border=\"1\" class=\"dataframe\">\n",
       "  <thead>\n",
       "    <tr style=\"text-align: right;\">\n",
       "      <th></th>\n",
       "      <th>CRIM</th>\n",
       "      <th>ZN</th>\n",
       "      <th>INDUS</th>\n",
       "      <th>CHAS</th>\n",
       "      <th>NOX</th>\n",
       "      <th>RM</th>\n",
       "      <th>AGE</th>\n",
       "      <th>DIS</th>\n",
       "      <th>RAD</th>\n",
       "      <th>TAX</th>\n",
       "      <th>PTRATIO</th>\n",
       "      <th>B</th>\n",
       "      <th>LSTAT</th>\n",
       "    </tr>\n",
       "  </thead>\n",
       "  <tbody>\n",
       "    <tr>\n",
       "      <th>0</th>\n",
       "      <td>0.00632</td>\n",
       "      <td>18.0</td>\n",
       "      <td>2.31</td>\n",
       "      <td>0.0</td>\n",
       "      <td>0.538</td>\n",
       "      <td>6.575</td>\n",
       "      <td>65.2</td>\n",
       "      <td>4.0900</td>\n",
       "      <td>1.0</td>\n",
       "      <td>296.0</td>\n",
       "      <td>15.3</td>\n",
       "      <td>396.90</td>\n",
       "      <td>4.98</td>\n",
       "    </tr>\n",
       "    <tr>\n",
       "      <th>1</th>\n",
       "      <td>0.02731</td>\n",
       "      <td>0.0</td>\n",
       "      <td>7.07</td>\n",
       "      <td>0.0</td>\n",
       "      <td>0.469</td>\n",
       "      <td>6.421</td>\n",
       "      <td>78.9</td>\n",
       "      <td>4.9671</td>\n",
       "      <td>2.0</td>\n",
       "      <td>242.0</td>\n",
       "      <td>17.8</td>\n",
       "      <td>396.90</td>\n",
       "      <td>9.14</td>\n",
       "    </tr>\n",
       "    <tr>\n",
       "      <th>2</th>\n",
       "      <td>0.02729</td>\n",
       "      <td>0.0</td>\n",
       "      <td>7.07</td>\n",
       "      <td>0.0</td>\n",
       "      <td>0.469</td>\n",
       "      <td>7.185</td>\n",
       "      <td>61.1</td>\n",
       "      <td>4.9671</td>\n",
       "      <td>2.0</td>\n",
       "      <td>242.0</td>\n",
       "      <td>17.8</td>\n",
       "      <td>392.83</td>\n",
       "      <td>4.03</td>\n",
       "    </tr>\n",
       "    <tr>\n",
       "      <th>3</th>\n",
       "      <td>0.03237</td>\n",
       "      <td>0.0</td>\n",
       "      <td>2.18</td>\n",
       "      <td>0.0</td>\n",
       "      <td>0.458</td>\n",
       "      <td>6.998</td>\n",
       "      <td>45.8</td>\n",
       "      <td>6.0622</td>\n",
       "      <td>3.0</td>\n",
       "      <td>222.0</td>\n",
       "      <td>18.7</td>\n",
       "      <td>394.63</td>\n",
       "      <td>2.94</td>\n",
       "    </tr>\n",
       "    <tr>\n",
       "      <th>4</th>\n",
       "      <td>0.06905</td>\n",
       "      <td>0.0</td>\n",
       "      <td>2.18</td>\n",
       "      <td>0.0</td>\n",
       "      <td>0.458</td>\n",
       "      <td>7.147</td>\n",
       "      <td>54.2</td>\n",
       "      <td>6.0622</td>\n",
       "      <td>3.0</td>\n",
       "      <td>222.0</td>\n",
       "      <td>18.7</td>\n",
       "      <td>396.90</td>\n",
       "      <td>5.33</td>\n",
       "    </tr>\n",
       "  </tbody>\n",
       "</table>\n",
       "</div>"
      ],
      "text/plain": [
       "      CRIM    ZN  INDUS  CHAS    NOX     RM   AGE     DIS  RAD    TAX  \\\n",
       "0  0.00632  18.0   2.31   0.0  0.538  6.575  65.2  4.0900  1.0  296.0   \n",
       "1  0.02731   0.0   7.07   0.0  0.469  6.421  78.9  4.9671  2.0  242.0   \n",
       "2  0.02729   0.0   7.07   0.0  0.469  7.185  61.1  4.9671  2.0  242.0   \n",
       "3  0.03237   0.0   2.18   0.0  0.458  6.998  45.8  6.0622  3.0  222.0   \n",
       "4  0.06905   0.0   2.18   0.0  0.458  7.147  54.2  6.0622  3.0  222.0   \n",
       "\n",
       "   PTRATIO       B  LSTAT  \n",
       "0     15.3  396.90   4.98  \n",
       "1     17.8  396.90   9.14  \n",
       "2     17.8  392.83   4.03  \n",
       "3     18.7  394.63   2.94  \n",
       "4     18.7  396.90   5.33  "
      ]
     },
     "execution_count": 7,
     "metadata": {},
     "output_type": "execute_result"
    }
   ],
   "source": [
    "bos.columns = boston.feature_names\n",
    "bos.head()"
   ]
  },
  {
   "cell_type": "markdown",
   "metadata": {},
   "source": [
    "Now we have a pandas DataFrame called `bos` containing all the data we want to use to predict Boston Housing prices.  Let's create a variable called `PRICE` which will contain the prices. This information is contained in the `target` data. "
   ]
  },
  {
   "cell_type": "code",
   "execution_count": 8,
   "metadata": {},
   "outputs": [
    {
     "name": "stdout",
     "output_type": "stream",
     "text": [
      "(506,)\n"
     ]
    }
   ],
   "source": [
    "print(boston.target.shape)"
   ]
  },
  {
   "cell_type": "code",
   "execution_count": 9,
   "metadata": {},
   "outputs": [
    {
     "data": {
      "text/html": [
       "<div>\n",
       "<style>\n",
       "    .dataframe thead tr:only-child th {\n",
       "        text-align: right;\n",
       "    }\n",
       "\n",
       "    .dataframe thead th {\n",
       "        text-align: left;\n",
       "    }\n",
       "\n",
       "    .dataframe tbody tr th {\n",
       "        vertical-align: top;\n",
       "    }\n",
       "</style>\n",
       "<table border=\"1\" class=\"dataframe\">\n",
       "  <thead>\n",
       "    <tr style=\"text-align: right;\">\n",
       "      <th></th>\n",
       "      <th>CRIM</th>\n",
       "      <th>ZN</th>\n",
       "      <th>INDUS</th>\n",
       "      <th>CHAS</th>\n",
       "      <th>NOX</th>\n",
       "      <th>RM</th>\n",
       "      <th>AGE</th>\n",
       "      <th>DIS</th>\n",
       "      <th>RAD</th>\n",
       "      <th>TAX</th>\n",
       "      <th>PTRATIO</th>\n",
       "      <th>B</th>\n",
       "      <th>LSTAT</th>\n",
       "      <th>PRICE</th>\n",
       "    </tr>\n",
       "  </thead>\n",
       "  <tbody>\n",
       "    <tr>\n",
       "      <th>0</th>\n",
       "      <td>0.00632</td>\n",
       "      <td>18.0</td>\n",
       "      <td>2.31</td>\n",
       "      <td>0.0</td>\n",
       "      <td>0.538</td>\n",
       "      <td>6.575</td>\n",
       "      <td>65.2</td>\n",
       "      <td>4.0900</td>\n",
       "      <td>1.0</td>\n",
       "      <td>296.0</td>\n",
       "      <td>15.3</td>\n",
       "      <td>396.90</td>\n",
       "      <td>4.98</td>\n",
       "      <td>24.0</td>\n",
       "    </tr>\n",
       "    <tr>\n",
       "      <th>1</th>\n",
       "      <td>0.02731</td>\n",
       "      <td>0.0</td>\n",
       "      <td>7.07</td>\n",
       "      <td>0.0</td>\n",
       "      <td>0.469</td>\n",
       "      <td>6.421</td>\n",
       "      <td>78.9</td>\n",
       "      <td>4.9671</td>\n",
       "      <td>2.0</td>\n",
       "      <td>242.0</td>\n",
       "      <td>17.8</td>\n",
       "      <td>396.90</td>\n",
       "      <td>9.14</td>\n",
       "      <td>21.6</td>\n",
       "    </tr>\n",
       "    <tr>\n",
       "      <th>2</th>\n",
       "      <td>0.02729</td>\n",
       "      <td>0.0</td>\n",
       "      <td>7.07</td>\n",
       "      <td>0.0</td>\n",
       "      <td>0.469</td>\n",
       "      <td>7.185</td>\n",
       "      <td>61.1</td>\n",
       "      <td>4.9671</td>\n",
       "      <td>2.0</td>\n",
       "      <td>242.0</td>\n",
       "      <td>17.8</td>\n",
       "      <td>392.83</td>\n",
       "      <td>4.03</td>\n",
       "      <td>34.7</td>\n",
       "    </tr>\n",
       "    <tr>\n",
       "      <th>3</th>\n",
       "      <td>0.03237</td>\n",
       "      <td>0.0</td>\n",
       "      <td>2.18</td>\n",
       "      <td>0.0</td>\n",
       "      <td>0.458</td>\n",
       "      <td>6.998</td>\n",
       "      <td>45.8</td>\n",
       "      <td>6.0622</td>\n",
       "      <td>3.0</td>\n",
       "      <td>222.0</td>\n",
       "      <td>18.7</td>\n",
       "      <td>394.63</td>\n",
       "      <td>2.94</td>\n",
       "      <td>33.4</td>\n",
       "    </tr>\n",
       "    <tr>\n",
       "      <th>4</th>\n",
       "      <td>0.06905</td>\n",
       "      <td>0.0</td>\n",
       "      <td>2.18</td>\n",
       "      <td>0.0</td>\n",
       "      <td>0.458</td>\n",
       "      <td>7.147</td>\n",
       "      <td>54.2</td>\n",
       "      <td>6.0622</td>\n",
       "      <td>3.0</td>\n",
       "      <td>222.0</td>\n",
       "      <td>18.7</td>\n",
       "      <td>396.90</td>\n",
       "      <td>5.33</td>\n",
       "      <td>36.2</td>\n",
       "    </tr>\n",
       "  </tbody>\n",
       "</table>\n",
       "</div>"
      ],
      "text/plain": [
       "      CRIM    ZN  INDUS  CHAS    NOX     RM   AGE     DIS  RAD    TAX  \\\n",
       "0  0.00632  18.0   2.31   0.0  0.538  6.575  65.2  4.0900  1.0  296.0   \n",
       "1  0.02731   0.0   7.07   0.0  0.469  6.421  78.9  4.9671  2.0  242.0   \n",
       "2  0.02729   0.0   7.07   0.0  0.469  7.185  61.1  4.9671  2.0  242.0   \n",
       "3  0.03237   0.0   2.18   0.0  0.458  6.998  45.8  6.0622  3.0  222.0   \n",
       "4  0.06905   0.0   2.18   0.0  0.458  7.147  54.2  6.0622  3.0  222.0   \n",
       "\n",
       "   PTRATIO       B  LSTAT  PRICE  \n",
       "0     15.3  396.90   4.98   24.0  \n",
       "1     17.8  396.90   9.14   21.6  \n",
       "2     17.8  392.83   4.03   34.7  \n",
       "3     18.7  394.63   2.94   33.4  \n",
       "4     18.7  396.90   5.33   36.2  "
      ]
     },
     "execution_count": 9,
     "metadata": {},
     "output_type": "execute_result"
    }
   ],
   "source": [
    "bos['PRICE'] = boston.target\n",
    "bos.head()"
   ]
  },
  {
   "cell_type": "markdown",
   "metadata": {},
   "source": [
    "## EDA and Summary Statistics\n",
    "***\n",
    "\n",
    "Let's explore this data set.  First we use `describe()` to get basic summary statistics for each of the columns. "
   ]
  },
  {
   "cell_type": "code",
   "execution_count": 10,
   "metadata": {},
   "outputs": [
    {
     "data": {
      "text/html": [
       "<div>\n",
       "<style>\n",
       "    .dataframe thead tr:only-child th {\n",
       "        text-align: right;\n",
       "    }\n",
       "\n",
       "    .dataframe thead th {\n",
       "        text-align: left;\n",
       "    }\n",
       "\n",
       "    .dataframe tbody tr th {\n",
       "        vertical-align: top;\n",
       "    }\n",
       "</style>\n",
       "<table border=\"1\" class=\"dataframe\">\n",
       "  <thead>\n",
       "    <tr style=\"text-align: right;\">\n",
       "      <th></th>\n",
       "      <th>CRIM</th>\n",
       "      <th>ZN</th>\n",
       "      <th>INDUS</th>\n",
       "      <th>CHAS</th>\n",
       "      <th>NOX</th>\n",
       "      <th>RM</th>\n",
       "      <th>AGE</th>\n",
       "      <th>DIS</th>\n",
       "      <th>RAD</th>\n",
       "      <th>TAX</th>\n",
       "      <th>PTRATIO</th>\n",
       "      <th>B</th>\n",
       "      <th>LSTAT</th>\n",
       "      <th>PRICE</th>\n",
       "    </tr>\n",
       "  </thead>\n",
       "  <tbody>\n",
       "    <tr>\n",
       "      <th>count</th>\n",
       "      <td>506.000000</td>\n",
       "      <td>506.000000</td>\n",
       "      <td>506.000000</td>\n",
       "      <td>506.000000</td>\n",
       "      <td>506.000000</td>\n",
       "      <td>506.000000</td>\n",
       "      <td>506.000000</td>\n",
       "      <td>506.000000</td>\n",
       "      <td>506.000000</td>\n",
       "      <td>506.000000</td>\n",
       "      <td>506.000000</td>\n",
       "      <td>506.000000</td>\n",
       "      <td>506.000000</td>\n",
       "      <td>506.000000</td>\n",
       "    </tr>\n",
       "    <tr>\n",
       "      <th>mean</th>\n",
       "      <td>3.593761</td>\n",
       "      <td>11.363636</td>\n",
       "      <td>11.136779</td>\n",
       "      <td>0.069170</td>\n",
       "      <td>0.554695</td>\n",
       "      <td>6.284634</td>\n",
       "      <td>68.574901</td>\n",
       "      <td>3.795043</td>\n",
       "      <td>9.549407</td>\n",
       "      <td>408.237154</td>\n",
       "      <td>18.455534</td>\n",
       "      <td>356.674032</td>\n",
       "      <td>12.653063</td>\n",
       "      <td>22.532806</td>\n",
       "    </tr>\n",
       "    <tr>\n",
       "      <th>std</th>\n",
       "      <td>8.596783</td>\n",
       "      <td>23.322453</td>\n",
       "      <td>6.860353</td>\n",
       "      <td>0.253994</td>\n",
       "      <td>0.115878</td>\n",
       "      <td>0.702617</td>\n",
       "      <td>28.148861</td>\n",
       "      <td>2.105710</td>\n",
       "      <td>8.707259</td>\n",
       "      <td>168.537116</td>\n",
       "      <td>2.164946</td>\n",
       "      <td>91.294864</td>\n",
       "      <td>7.141062</td>\n",
       "      <td>9.197104</td>\n",
       "    </tr>\n",
       "    <tr>\n",
       "      <th>min</th>\n",
       "      <td>0.006320</td>\n",
       "      <td>0.000000</td>\n",
       "      <td>0.460000</td>\n",
       "      <td>0.000000</td>\n",
       "      <td>0.385000</td>\n",
       "      <td>3.561000</td>\n",
       "      <td>2.900000</td>\n",
       "      <td>1.129600</td>\n",
       "      <td>1.000000</td>\n",
       "      <td>187.000000</td>\n",
       "      <td>12.600000</td>\n",
       "      <td>0.320000</td>\n",
       "      <td>1.730000</td>\n",
       "      <td>5.000000</td>\n",
       "    </tr>\n",
       "    <tr>\n",
       "      <th>25%</th>\n",
       "      <td>0.082045</td>\n",
       "      <td>0.000000</td>\n",
       "      <td>5.190000</td>\n",
       "      <td>0.000000</td>\n",
       "      <td>0.449000</td>\n",
       "      <td>5.885500</td>\n",
       "      <td>45.025000</td>\n",
       "      <td>2.100175</td>\n",
       "      <td>4.000000</td>\n",
       "      <td>279.000000</td>\n",
       "      <td>17.400000</td>\n",
       "      <td>375.377500</td>\n",
       "      <td>6.950000</td>\n",
       "      <td>17.025000</td>\n",
       "    </tr>\n",
       "    <tr>\n",
       "      <th>50%</th>\n",
       "      <td>0.256510</td>\n",
       "      <td>0.000000</td>\n",
       "      <td>9.690000</td>\n",
       "      <td>0.000000</td>\n",
       "      <td>0.538000</td>\n",
       "      <td>6.208500</td>\n",
       "      <td>77.500000</td>\n",
       "      <td>3.207450</td>\n",
       "      <td>5.000000</td>\n",
       "      <td>330.000000</td>\n",
       "      <td>19.050000</td>\n",
       "      <td>391.440000</td>\n",
       "      <td>11.360000</td>\n",
       "      <td>21.200000</td>\n",
       "    </tr>\n",
       "    <tr>\n",
       "      <th>75%</th>\n",
       "      <td>3.647423</td>\n",
       "      <td>12.500000</td>\n",
       "      <td>18.100000</td>\n",
       "      <td>0.000000</td>\n",
       "      <td>0.624000</td>\n",
       "      <td>6.623500</td>\n",
       "      <td>94.075000</td>\n",
       "      <td>5.188425</td>\n",
       "      <td>24.000000</td>\n",
       "      <td>666.000000</td>\n",
       "      <td>20.200000</td>\n",
       "      <td>396.225000</td>\n",
       "      <td>16.955000</td>\n",
       "      <td>25.000000</td>\n",
       "    </tr>\n",
       "    <tr>\n",
       "      <th>max</th>\n",
       "      <td>88.976200</td>\n",
       "      <td>100.000000</td>\n",
       "      <td>27.740000</td>\n",
       "      <td>1.000000</td>\n",
       "      <td>0.871000</td>\n",
       "      <td>8.780000</td>\n",
       "      <td>100.000000</td>\n",
       "      <td>12.126500</td>\n",
       "      <td>24.000000</td>\n",
       "      <td>711.000000</td>\n",
       "      <td>22.000000</td>\n",
       "      <td>396.900000</td>\n",
       "      <td>37.970000</td>\n",
       "      <td>50.000000</td>\n",
       "    </tr>\n",
       "  </tbody>\n",
       "</table>\n",
       "</div>"
      ],
      "text/plain": [
       "             CRIM          ZN       INDUS        CHAS         NOX          RM  \\\n",
       "count  506.000000  506.000000  506.000000  506.000000  506.000000  506.000000   \n",
       "mean     3.593761   11.363636   11.136779    0.069170    0.554695    6.284634   \n",
       "std      8.596783   23.322453    6.860353    0.253994    0.115878    0.702617   \n",
       "min      0.006320    0.000000    0.460000    0.000000    0.385000    3.561000   \n",
       "25%      0.082045    0.000000    5.190000    0.000000    0.449000    5.885500   \n",
       "50%      0.256510    0.000000    9.690000    0.000000    0.538000    6.208500   \n",
       "75%      3.647423   12.500000   18.100000    0.000000    0.624000    6.623500   \n",
       "max     88.976200  100.000000   27.740000    1.000000    0.871000    8.780000   \n",
       "\n",
       "              AGE         DIS         RAD         TAX     PTRATIO           B  \\\n",
       "count  506.000000  506.000000  506.000000  506.000000  506.000000  506.000000   \n",
       "mean    68.574901    3.795043    9.549407  408.237154   18.455534  356.674032   \n",
       "std     28.148861    2.105710    8.707259  168.537116    2.164946   91.294864   \n",
       "min      2.900000    1.129600    1.000000  187.000000   12.600000    0.320000   \n",
       "25%     45.025000    2.100175    4.000000  279.000000   17.400000  375.377500   \n",
       "50%     77.500000    3.207450    5.000000  330.000000   19.050000  391.440000   \n",
       "75%     94.075000    5.188425   24.000000  666.000000   20.200000  396.225000   \n",
       "max    100.000000   12.126500   24.000000  711.000000   22.000000  396.900000   \n",
       "\n",
       "            LSTAT       PRICE  \n",
       "count  506.000000  506.000000  \n",
       "mean    12.653063   22.532806  \n",
       "std      7.141062    9.197104  \n",
       "min      1.730000    5.000000  \n",
       "25%      6.950000   17.025000  \n",
       "50%     11.360000   21.200000  \n",
       "75%     16.955000   25.000000  \n",
       "max     37.970000   50.000000  "
      ]
     },
     "execution_count": 10,
     "metadata": {},
     "output_type": "execute_result"
    }
   ],
   "source": [
    "bos.describe()"
   ]
  },
  {
   "cell_type": "markdown",
   "metadata": {},
   "source": [
    "### Scatterplots\n",
    "***\n",
    "\n",
    "Let's look at some scatter plots for three variables: 'CRIM' (per capita crime rate), 'RM' (number of rooms) and 'PTRATIO' (pupil-to-teacher ratio in schools).  "
   ]
  },
  {
   "cell_type": "code",
   "execution_count": 14,
   "metadata": {},
   "outputs": [
    {
     "data": {
      "image/png": "[encoded data removed]",
      "text/plain": [
       "<matplotlib.figure.Figure at 0x7f65160>"
      ]
     },
     "metadata": {},
     "output_type": "display_data"
    }
   ],
   "source": [
    "import matplotlib.pyplot as plt\n",
    "\n",
    "plt.scatter(bos.CRIM, bos.PRICE)\n",
    "plt.xlabel(\"Per capita crime rate by town (CRIM)\")\n",
    "plt.ylabel(\"Housing Price\")\n",
    "plt.title(\"Relationship between CRIM and Price\")\n",
    "plt.show()"
   ]
  },
  {
   "cell_type": "markdown",
   "metadata": {},
   "source": [
    "<div class=\"span5 alert alert-info\">\n",
    "<h3>Part 2 Checkup Exercise Set I</h3>\n",
    "\n",
    "<p><b>Exercise:</b> What kind of relationship do you see? e.g. positive, negative?  linear? non-linear? Is there anything else strange or interesting about the data? What about outliers?</p>\n",
    "\n",
    "\n",
    "<p><b>Exercise:</b> Create scatter plots between *RM* and *PRICE*, and *PTRATIO* and *PRICE*. Label your axes appropriately using human readable labels. Tell a story about what you see.</p>\n",
    "\n",
    "<p><b>Exercise:</b> What are some other numeric variables of interest? Why do you think they are interesting? Plot scatterplots with these variables and *PRICE* (house price) and tell a story about what you see.</p>\n",
    "\n",
    "</div>"
   ]
  },
  {
   "cell_type": "markdown",
   "metadata": {},
   "source": [
    "# your turn: describe relationship\n",
    "There seems to be a negative between crime per capita and housing price, which makes sense that people would not want to live in more criminal areas. There are a high numer of points with 0 crimes per capita and a number of prices saturated at 50. It is hard to tell if it is linear or a higher degree because of all the saturated points. It does not seem to be linear, because it looks to have an asmptote at 0."
   ]
  },
  {
   "cell_type": "code",
   "execution_count": 17,
   "metadata": {},
   "outputs": [
    {
     "data": {
      "image/png": "[encoded data removed]",
      "text/plain": [
       "<matplotlib.figure.Figure at 0xa6c6ef0>"
      ]
     },
     "metadata": {},
     "output_type": "display_data"
    }
   ],
   "source": [
    "# your turn: scatter plot between *RM* and *PRICE*\n",
    "plt.scatter(bos.RM, bos.PRICE)\n",
    "plt.xlabel(\"Average number of rooms per dwelling\")\n",
    "plt.ylabel(\"Housing Price\")\n",
    "plt.title(\"Relationship between Number of Rooms and Price\")\n",
    "plt.show()"
   ]
  },
  {
   "cell_type": "markdown",
   "metadata": {},
   "source": [
    "As average number of rooms per dwelling increases, so does the housing price in a largely linear fashion. That trend makes sense because bigger houses would be expected to cost more."
   ]
  },
  {
   "cell_type": "code",
   "execution_count": 19,
   "metadata": {},
   "outputs": [
    {
     "data": {
      "image/png": "[encoded data removed]",
      "text/plain": [
       "<matplotlib.figure.Figure at 0xc200e48>"
      ]
     },
     "metadata": {},
     "output_type": "display_data"
    }
   ],
   "source": [
    "# your turn: scatter plot between *PTRATIO* and *PRICE*\n",
    "plt.scatter(bos.PTRATIO, bos.PRICE)\n",
    "plt.xlabel(\"pupil-teacher ratio by town\")\n",
    "plt.ylabel(\"Housing Price\")\n",
    "plt.title(\"Relationship between pupil/teachers ratio and Price\")\n",
    "plt.show()"
   ]
  },
  {
   "cell_type": "markdown",
   "metadata": {},
   "source": [
    "The price and pupil-teacher ratio by town are inversly corelated, as the number of students a teacher is incharge of increases the house price decreases. Richer towns tend to have richer school districts as well."
   ]
  },
  {
   "cell_type": "code",
   "execution_count": 22,
   "metadata": {
    "collapsed": true
   },
   "outputs": [
    {
     "data": {
      "image/png": "[encoded data removed]",
      "text/plain": [
       "<matplotlib.figure.Figure at 0xc230588>"
      ]
     },
     "metadata": {},
     "output_type": "display_data"
    }
   ],
   "source": [
    "# your turn: create some other scatter plots\n",
    "plt.scatter(bos.ZN, bos.CRIM)\n",
    "plt.xlabel(\"Proportion of residential about 25,000 sq ft.\")\n",
    "plt.ylabel(\"Crime per capita\")\n",
    "plt.title(\"25,000 sq ft residential land and Crime\")\n",
    "plt.show()"
   ]
  },
  {
   "cell_type": "markdown",
   "metadata": {},
   "source": [
    "When people are more spaced out there is clearly less crimes. The number of crimes in any area with more than about 10% of residetial lots larger than 25,000 sq ft have almost zero crimes per capita."
   ]
  },
  {
   "cell_type": "code",
   "execution_count": 26,
   "metadata": {},
   "outputs": [
    {
     "data": {
      "image/png": "[encoded data removed]",
      "text/plain": [
       "<matplotlib.figure.Figure at 0xc35f0f0>"
      ]
     },
     "metadata": {},
     "output_type": "display_data"
    }
   ],
   "source": [
    "# your turn: create some other scatter plots\n",
    "plt.scatter(bos.AGE, bos.NOX)\n",
    "plt.xlabel(\"Units built before 1940\")\n",
    "plt.ylabel(\"Nitric oxides concentration\")\n",
    "plt.title(\"Nitric oxide concetration compared with percent of units built befor 1940\")\n",
    "plt.show()"
   ]
  },
  {
   "cell_type": "code",
   "execution_count": null,
   "metadata": {},
   "outputs": [],
   "source": [
    "The number of units built before 1940 and the Nitric Oxide concentrations are positively corelated in a linear manner."
   ]
  },
  {
   "cell_type": "markdown",
   "metadata": {},
   "source": [
    "### Scatterplots using Seaborn\n",
    "***\n",
    "\n",
    "[Seaborn](https://stanford.edu/~mwaskom/software/seaborn/) is a cool Python plotting library built on top of matplotlib. It provides convenient syntax and shortcuts for many common types of plots, along with better-looking defaults.\n",
    "\n",
    "We can also use [seaborn regplot](https://stanford.edu/~mwaskom/software/seaborn/tutorial/regression.html#functions-to-draw-linear-regression-models) for the scatterplot above. This provides automatic linear regression fits (useful for data exploration later on). Here's one example below."
   ]
  },
  {
   "cell_type": "code",
   "execution_count": null,
   "metadata": {},
   "outputs": [],
   "source": [
    "sns.regplot(y=\"PRICE\", x=\"RM\", data=bos, fit_reg = True)"
   ]
  },
  {
   "cell_type": "markdown",
   "metadata": {},
   "source": [
    "### Histograms\n",
    "***\n"
   ]
  },
  {
   "cell_type": "code",
   "execution_count": 25,
   "metadata": {},
   "outputs": [
    {
     "data": {
      "image/png": "[encoded data removed]",
      "text/plain": [
       "<matplotlib.figure.Figure at 0xc230c50>"
      ]
     },
     "metadata": {},
     "output_type": "display_data"
    }
   ],
   "source": [
    "import numpy as np\n",
    "\n",
    "plt.hist(np.log(bos.CRIM))\n",
    "plt.title(\"CRIM\")\n",
    "plt.xlabel(\"Crime rate per capita\")\n",
    "plt.ylabel(\"Frequencey\")\n",
    "plt.show()"
   ]
  },
  {
   "cell_type": "markdown",
   "metadata": {},
   "source": [
    "<div class=\"span5 alert alert-info\">\n",
    "<h3>Part 2 Checkup Exercise Set II</h3>\n",
    "\n",
    "<p><b>Exercise:</b> In the above histogram, we took the logarithm of the crime rate per capita. Repeat this histogram without taking the log. What was the purpose of taking the log? What do we gain by making this transformation? What do you now notice about this variable that is not obvious without making the transformation?\n",
    "\n",
    "<p><b>Exercise:</b> Plot the histogram for *RM* and *PTRATIO* against each other, along with the two variables you picked in the previous section. We are looking for correlations in predictors here.</p>\n",
    "</div>"
   ]
  },
  {
   "cell_type": "code",
   "execution_count": 27,
   "metadata": {
    "collapsed": true
   },
   "outputs": [
    {
     "data": {
      "image/png": "[encoded data removed]",
      "text/plain": [
       "<matplotlib.figure.Figure at 0xc3f9550>"
      ]
     },
     "metadata": {},
     "output_type": "display_data"
    }
   ],
   "source": [
    "#your turn\n",
    "plt.hist(bos.CRIM)\n",
    "plt.title(\"CRIM\")\n",
    "plt.xlabel(\"Crime rate per capita\")\n",
    "plt.ylabel(\"Frequencey\")\n",
    "plt.show()"
   ]
  },
  {
   "cell_type": "markdown",
   "metadata": {},
   "source": [
    "By taking the logarithm we change the data into a form where the data can be viewed. Now it is clear that the majority of crime per capita is near 0, but that it goes up to 80."
   ]
  },
  {
   "cell_type": "code",
   "execution_count": 33,
   "metadata": {},
   "outputs": [
    {
     "data": {
      "image/png": "[encoded data removed]",
      "text/plain": [
       "<matplotlib.figure.Figure at 0xc5194e0>"
      ]
     },
     "metadata": {},
     "output_type": "display_data"
    }
   ],
   "source": [
    "#your turn\n",
    "plt.hist([bos.RM,bos.PTRATIO,bos.AGE,bos.NOX],bins=20)\n",
    "plt.title(\"Comparing Histograms\")\n",
    "plt.xlabel(\"Average number of rooms per dwelling, pupil teacher ratio, percentages, NO per 10 million\")\n",
    "plt.ylabel(\"Frequencey\")\n",
    "plt.legend(['RM','PTRATIO','AGE','NOX'])\n",
    "plt.show()"
   ]
  },
  {
   "cell_type": "markdown",
   "metadata": {},
   "source": [
    "It is hard to draw much in the way of correlation since the data points are mixed though you can see the clustering of the points. The number of rooms per dwelling is always smaller than the number of students per teacher."
   ]
  },
  {
   "cell_type": "markdown",
   "metadata": {},
   "source": [
    "## Part 3: Linear Regression with Boston Housing Data Example\n",
    "***\n",
    "\n",
    "Here, \n",
    "\n",
    "$Y$ = boston housing prices (called \"target\" data in python, and referred to as the dependent variable or response variable)\n",
    "\n",
    "and\n",
    "\n",
    "$X$ = all the other features (or independent variables, predictors or explanatory variables)\n",
    "\n",
    "which we will use to fit a linear regression model and predict Boston housing prices. We will use the least-squares method to estimate the coefficients.  "
   ]
  },
  {
   "cell_type": "markdown",
   "metadata": {},
   "source": [
    "We'll use two ways of fitting a linear regression. We recommend the first but the second is also powerful in its features."
   ]
  },
  {
   "cell_type": "markdown",
   "metadata": {},
   "source": [
    "### Fitting Linear Regression using `statsmodels`\n",
    "***\n",
    "[Statsmodels](http://statsmodels.sourceforge.net/) is a great Python library for a lot of basic and inferential statistics. It also provides basic regression functions using an R-like syntax, so it's commonly used by statisticians. While we don't cover statsmodels officially in the Data Science Intensive workshop, it's a good library to have in your toolbox. Here's a quick example of what you could do with it. The version of least-squares we will use in statsmodels is called *ordinary least-squares (OLS)*. There are many other versions of least-squares such as [partial least squares (PLS)](https://en.wikipedia.org/wiki/Partial_least_squares_regression) and [weighted least squares (WLS)](https://en.wikipedia.org/wiki/Iteratively_reweighted_least_squares)."
   ]
  },
  {
   "cell_type": "code",
   "execution_count": 34,
   "metadata": {},
   "outputs": [
    {
     "name": "stderr",
     "output_type": "stream",
     "text": [
      "C:\\ProgramData\\Anaconda3\\lib\\site-packages\\statsmodels\\compat\\pandas.py:56: FutureWarning: The pandas.core.datetools module is deprecated and will be removed in a future version. Please use the pandas.tseries module instead.\n",
      "  from pandas.core import datetools\n"
     ]
    }
   ],
   "source": [
    "# Import regression modules\n",
    "import statsmodels.api as sm\n",
    "from statsmodels.formula.api import ols"
   ]
  },
  {
   "cell_type": "code",
   "execution_count": 35,
   "metadata": {},
   "outputs": [
    {
     "name": "stdout",
     "output_type": "stream",
     "text": [
      "                            OLS Regression Results                            \n",
      "==============================================================================\n",
      "Dep. Variable:                  PRICE   R-squared:                       0.484\n",
      "Model:                            OLS   Adj. R-squared:                  0.483\n",
      "Method:                 Least Squares   F-statistic:                     471.8\n",
      "Date:                Tue, 20 Feb 2018   Prob (F-statistic):           2.49e-74\n",
      "Time:                        17:47:30   Log-Likelihood:                -1673.1\n",
      "No. Observations:                 506   AIC:                             3350.\n",
      "Df Residuals:                     504   BIC:                             3359.\n",
      "Df Model:                           1                                         \n",
      "Covariance Type:            nonrobust                                         \n",
      "==============================================================================\n",
      "                 coef    std err          t      P>|t|      [0.025      0.975]\n",
      "------------------------------------------------------------------------------\n",
      "Intercept    -34.6706      2.650    -13.084      0.000     -39.877     -29.465\n",
      "RM             9.1021      0.419     21.722      0.000       8.279       9.925\n",
      "==============================================================================\n",
      "Omnibus:                      102.585   Durbin-Watson:                   0.684\n",
      "Prob(Omnibus):                  0.000   Jarque-Bera (JB):              612.449\n",
      "Skew:                           0.726   Prob(JB):                    1.02e-133\n",
      "Kurtosis:                       8.190   Cond. No.                         58.4\n",
      "==============================================================================\n",
      "\n",
      "Warnings:\n",
      "[1] Standard Errors assume that the covariance matrix of the errors is correctly specified.\n"
     ]
    }
   ],
   "source": [
    "# statsmodels works nicely with pandas dataframes\n",
    "# The thing inside the \"quotes\" is called a formula, a bit on that below\n",
    "m = ols('PRICE ~ RM',bos).fit()\n",
    "print(m.summary())"
   ]
  },
  {
   "cell_type": "markdown",
   "metadata": {},
   "source": [
    "#### Interpreting coefficients\n",
    "\n",
    "There is a ton of information in this output. But we'll concentrate on the coefficient table (middle table). We can interpret the `RM` coefficient (9.1021) by first noticing that the p-value (under `P>|t|`) is so small, basically zero. This means that the number of rooms, `RM`, is a statisticall significant predictor of `PRICE`. The regression coefficient for `RM` of 9.1021 means that *on average, each additional room is associated with an increase of $\\$9,100$ in house price net of the other variables*. The confidence interval gives us a range of plausible values for this average change, about ($\\$8,279, \\$9,925$), definitely not chump change. \n",
    "\n",
    "In general, the $\\hat{\\beta_i}, i > 0$ can be interpreted as the following: \"A one unit increase in $x_i$ is associated with, on average, a $\\hat{\\beta_i}$ increase/decrease in $y$ net of all other variables.\"\n",
    "\n",
    "On the other hand, the interpretation for the intercept, $\\hat{\\beta}_0$ is the average of $y$ given that all of the independent variables $x_i$ are 0."
   ]
  },
  {
   "cell_type": "markdown",
   "metadata": {},
   "source": [
    "####  `statsmodels` formulas\n",
    "***\n",
    "This formula notation will seem familiar to `R` users, but will take some getting used to for people coming from other languages or are new to statistics.\n",
    "\n",
    "The formula gives instruction for a general structure for a regression call. For `statsmodels` (`ols` or `logit`) calls you need to have a Pandas dataframe with column names that you will add to your formula. In the below example you need a pandas data frame that includes the columns named (`Outcome`, `X1`,`X2`, ...), but you don't need to build a new dataframe for every regression. Use the same dataframe with all these things in it. The structure is very simple:\n",
    "\n",
    "`Outcome ~ X1`\n",
    "\n",
    "But of course we want to to be able to handle more complex models, for example multiple regression is doone like this:\n",
    "\n",
    "`Outcome ~ X1 + X2 + X3`\n",
    "\n",
    "In general, a formula for an OLS multiple linear regression is\n",
    "\n",
    "`Y ~ X1 + X2 + ... + Xp`\n",
    "\n",
    "This is the very basic structure but it should be enough to get you through the homework. Things can get much more complex. You can force statsmodels to treat variables as categorical with the `C()` function, call numpy functions to transform data such as `np.log` for extremely-skewed data, or fit a model without an intercept by including `- 1` in the formula. For a quick run-down of further uses see the `statsmodels` [help page](http://statsmodels.sourceforge.net/devel/example_formulas.html).\n"
   ]
  },
  {
   "cell_type": "markdown",
   "metadata": {},
   "source": [
    "Let's see how our model actually fit our data. We can see below that there is a ceiling effect, we should probably look into that. Also, for large values of $Y$ we get underpredictions, most predictions are below the 45-degree gridlines. "
   ]
  },
  {
   "cell_type": "markdown",
   "metadata": {},
   "source": [
    "<div class=\"span5 alert alert-info\">\n",
    "<h3>Part 3 Checkup Exercise Set I</h3>\n",
    "\n",
    "<p><b>Exercise:</b> Create a scatterplot between the predicted prices, available in `m.fittedvalues` (where `m` is the fitted model) and the original prices. How does the plot look? Do you notice anything interesting or weird in the plot? Comment on what you see.</p>\n",
    "</div>"
   ]
  },
  {
   "cell_type": "code",
   "execution_count": 44,
   "metadata": {},
   "outputs": [
    {
     "data": {
      "image/png": "[encoded data removed]",
      "text/plain": [
       "<matplotlib.figure.Figure at 0xc52c898>"
      ]
     },
     "metadata": {},
     "output_type": "display_data"
    }
   ],
   "source": [
    "# your turn\n",
    "#m = ols('PRICE ~ RM',bos).fit()\n",
    "plt.plot(m.fittedvalues)\n",
    "plt.plot(bos.PRICE,bos.RM,'.')\n",
    "plt.show()"
   ]
  },
  {
   "cell_type": "code",
   "execution_count": null,
   "metadata": {},
   "outputs": [],
   "source": [
    "The fitted values seem to have a larger scale."
   ]
  },
  {
   "cell_type": "markdown",
   "metadata": {},
   "source": [
    "### Fitting Linear Regression using `sklearn`\n"
   ]
  },
  {
   "cell_type": "code",
   "execution_count": 45,
   "metadata": {},
   "outputs": [
    {
     "data": {
      "text/plain": [
       "LinearRegression(copy_X=True, fit_intercept=True, n_jobs=1, normalize=False)"
      ]
     },
     "execution_count": 45,
     "metadata": {},
     "output_type": "execute_result"
    }
   ],
   "source": [
    "from sklearn.linear_model import LinearRegression\n",
    "X = bos.drop('PRICE', axis = 1)\n",
    "\n",
    "# This creates a LinearRegression object\n",
    "lm = LinearRegression()\n",
    "lm"
   ]
  },
  {
   "cell_type": "markdown",
   "metadata": {},
   "source": [
    "#### What can you do with a LinearRegression object? \n",
    "***\n",
    "Check out the scikit-learn [docs here](http://scikit-learn.org/stable/modules/generated/sklearn.linear_model.LinearRegression.html). We have listed the main functions here. Most machine learning models in scikit-learn follow this same API of fitting a model with `fit`, making predictions with `predict` and the appropriate scoring function `score` for each model."
   ]
  },
  {
   "cell_type": "markdown",
   "metadata": {},
   "source": [
    "Main functions | Description\n",
    "--- | --- \n",
    "`lm.fit()` | Fit a linear model\n",
    "`lm.predit()` | Predict Y using the linear model with estimated coefficients\n",
    "`lm.score()` | Returns the coefficient of determination (R^2). *A measure of how well observed outcomes are replicated by the model, as the proportion of total variation of outcomes explained by the model*"
   ]
  },
  {
   "cell_type": "markdown",
   "metadata": {},
   "source": [
    "#### What output can you get?"
   ]
  },
  {
   "cell_type": "code",
   "execution_count": 46,
   "metadata": {},
   "outputs": [],
   "source": [
    "# Look inside lm object\n",
    "# lm.<tab>"
   ]
  },
  {
   "cell_type": "markdown",
   "metadata": {},
   "source": [
    "Output | Description\n",
    "--- | --- \n",
    "`lm.coef_` | Estimated coefficients\n",
    "`lm.intercept_` | Estimated intercept "
   ]
  },
  {
   "cell_type": "markdown",
   "metadata": {},
   "source": [
    "### Fit a linear model\n",
    "***\n",
    "\n",
    "The `lm.fit()` function estimates the coefficients the linear regression using least squares. "
   ]
  },
  {
   "cell_type": "code",
   "execution_count": 50,
   "metadata": {},
   "outputs": [
    {
     "data": {
      "text/plain": [
       "LinearRegression(copy_X=True, fit_intercept=True, n_jobs=1, normalize=False)"
      ]
     },
     "execution_count": 50,
     "metadata": {},
     "output_type": "execute_result"
    }
   ],
   "source": [
    "# Use all 13 predictors to fit linear regression model\n",
    "lm.fit(X, bos.PRICE)"
   ]
  },
  {
   "cell_type": "markdown",
   "metadata": {},
   "source": [
    "<div class=\"span5 alert alert-info\">\n",
    "<h3>Part 3 Checkup Exercise Set II</h3>\n",
    "\n",
    "<p><b>Exercise:</b> How would you change the model to not fit an intercept term? Would you recommend not having an intercept? Why or why not? For more information on why to include or exclude an intercept, look [here](https://online.stat.psu.edu/~ajw13/stat501/SpecialTopics/Reg_thru_origin.pdf).</p>\n",
    "\n",
    "<p><b>Exercise:</b> One of the assumptions of the linear model is that the residuals must be i.i.d. (independently and identically distributed). To satisfy this, is it enough that the residuals are normally distributed? Explain your answer.</p>\n",
    "\n",
    "<p><b>Exercise:</b> True or false. To use linear regression, $Y$ must be normally distributed. Explain your answer.</p>\n",
    "</div>\n"
   ]
  },
  {
   "cell_type": "code",
   "execution_count": 53,
   "metadata": {
    "collapsed": true
   },
   "outputs": [
    {
     "name": "stdout",
     "output_type": "stream",
     "text": [
      "36.4911032804\n"
     ]
    },
    {
     "ename": "AttributeError",
     "evalue": "'LinearRegression' object has no attribute 'intercept_'",
     "output_type": "error",
     "traceback": [
      "\u001b[1;31m---------------------------------------------------------------------------\u001b[0m",
      "\u001b[1;31mAttributeError\u001b[0m                            Traceback (most recent call last)",
      "\u001b[1;32m<ipython-input-53-869e823dae11>\u001b[0m in \u001b[0;36m<module>\u001b[1;34m()\u001b[0m\n\u001b[0;32m      2\u001b[0m \u001b[0mprint\u001b[0m\u001b[1;33m(\u001b[0m\u001b[0mlm\u001b[0m\u001b[1;33m.\u001b[0m\u001b[0mintercept_\u001b[0m\u001b[1;33m)\u001b[0m\u001b[1;33m\u001b[0m\u001b[0m\n\u001b[0;32m      3\u001b[0m \u001b[0mlm2\u001b[0m \u001b[1;33m=\u001b[0m \u001b[0mLinearRegression\u001b[0m\u001b[1;33m(\u001b[0m\u001b[0mfit_intercept\u001b[0m\u001b[1;33m=\u001b[0m\u001b[1;32mFalse\u001b[0m\u001b[1;33m)\u001b[0m\u001b[1;33m\u001b[0m\u001b[0m\n\u001b[1;32m----> 4\u001b[1;33m \u001b[0mprint\u001b[0m\u001b[1;33m(\u001b[0m\u001b[0mlm2\u001b[0m\u001b[1;33m.\u001b[0m\u001b[0mintercept_\u001b[0m\u001b[1;33m)\u001b[0m\u001b[1;33m\u001b[0m\u001b[0m\n\u001b[0m",
      "\u001b[1;31mAttributeError\u001b[0m: 'LinearRegression' object has no attribute 'intercept_'"
     ]
    }
   ],
   "source": [
    "# your turn\n",
    "print(lm.intercept_)\n",
    "lm2 = LinearRegression(fit_intercept=False)\n",
    "print(lm2.intercept_)"
   ]
  },
  {
   "cell_type": "markdown",
   "metadata": {},
   "source": [
    "You can change the model intercept by using fit_intercept=False. Not using an intercept makes since, because you would expect the price to drop to 0 at 0 sq ft."
   ]
  },
  {
   "cell_type": "markdown",
   "metadata": {},
   "source": [
    "The normal distribution of the residuals should be tested using scipy.stats.mstats.normaltest. Then your have proven that the linear fit is appropriat in the first place."
   ]
  },
  {
   "cell_type": "markdown",
   "metadata": {},
   "source": [
    "False, for linear regression Y will not be normally distributed since it varies with X, but the residuals need to be."
   ]
  },
  {
   "cell_type": "markdown",
   "metadata": {},
   "source": [
    "### Estimated intercept and coefficients\n",
    "\n",
    "Let's look at the estimated coefficients from the linear model using `1m.intercept_` and `lm.coef_`.  \n",
    "\n",
    "After we have fit our linear regression model using the least squares method, we want to see what are the estimates of our coefficients $\\beta_0$, $\\beta_1$, ..., $\\beta_{13}$: \n",
    "\n",
    "$$ \\hat{\\beta}_0, \\hat{\\beta}_1, \\ldots, \\hat{\\beta}_{13} $$\n",
    "\n"
   ]
  },
  {
   "cell_type": "code",
   "execution_count": 54,
   "metadata": {},
   "outputs": [
    {
     "name": "stdout",
     "output_type": "stream",
     "text": [
      "Estimated intercept coefficient: 36.49110328036308\n"
     ]
    }
   ],
   "source": [
    "print('Estimated intercept coefficient: {}'.format(lm.intercept_))"
   ]
  },
  {
   "cell_type": "code",
   "execution_count": 55,
   "metadata": {},
   "outputs": [
    {
     "name": "stdout",
     "output_type": "stream",
     "text": [
      "Number of coefficients: 13\n"
     ]
    }
   ],
   "source": [
    "print('Number of coefficients: {}'.format(len(lm.coef_)))"
   ]
  },
  {
   "cell_type": "code",
   "execution_count": 56,
   "metadata": {},
   "outputs": [
    {
     "data": {
      "text/html": [
       "<div>\n",
       "<style>\n",
       "    .dataframe thead tr:only-child th {\n",
       "        text-align: right;\n",
       "    }\n",
       "\n",
       "    .dataframe thead th {\n",
       "        text-align: left;\n",
       "    }\n",
       "\n",
       "    .dataframe tbody tr th {\n",
       "        vertical-align: top;\n",
       "    }\n",
       "</style>\n",
       "<table border=\"1\" class=\"dataframe\">\n",
       "  <thead>\n",
       "    <tr style=\"text-align: right;\">\n",
       "      <th></th>\n",
       "      <th>features</th>\n",
       "      <th>estimatedCoefficients</th>\n",
       "    </tr>\n",
       "  </thead>\n",
       "  <tbody>\n",
       "    <tr>\n",
       "      <th>0</th>\n",
       "      <td>CRIM</td>\n",
       "      <td>-0.107171</td>\n",
       "    </tr>\n",
       "    <tr>\n",
       "      <th>1</th>\n",
       "      <td>ZN</td>\n",
       "      <td>0.046395</td>\n",
       "    </tr>\n",
       "    <tr>\n",
       "      <th>2</th>\n",
       "      <td>INDUS</td>\n",
       "      <td>0.020860</td>\n",
       "    </tr>\n",
       "    <tr>\n",
       "      <th>3</th>\n",
       "      <td>CHAS</td>\n",
       "      <td>2.688561</td>\n",
       "    </tr>\n",
       "    <tr>\n",
       "      <th>4</th>\n",
       "      <td>NOX</td>\n",
       "      <td>-17.795759</td>\n",
       "    </tr>\n",
       "    <tr>\n",
       "      <th>5</th>\n",
       "      <td>RM</td>\n",
       "      <td>3.804752</td>\n",
       "    </tr>\n",
       "    <tr>\n",
       "      <th>6</th>\n",
       "      <td>AGE</td>\n",
       "      <td>0.000751</td>\n",
       "    </tr>\n",
       "    <tr>\n",
       "      <th>7</th>\n",
       "      <td>DIS</td>\n",
       "      <td>-1.475759</td>\n",
       "    </tr>\n",
       "    <tr>\n",
       "      <th>8</th>\n",
       "      <td>RAD</td>\n",
       "      <td>0.305655</td>\n",
       "    </tr>\n",
       "    <tr>\n",
       "      <th>9</th>\n",
       "      <td>TAX</td>\n",
       "      <td>-0.012329</td>\n",
       "    </tr>\n",
       "    <tr>\n",
       "      <th>10</th>\n",
       "      <td>PTRATIO</td>\n",
       "      <td>-0.953464</td>\n",
       "    </tr>\n",
       "    <tr>\n",
       "      <th>11</th>\n",
       "      <td>B</td>\n",
       "      <td>0.009393</td>\n",
       "    </tr>\n",
       "    <tr>\n",
       "      <th>12</th>\n",
       "      <td>LSTAT</td>\n",
       "      <td>-0.525467</td>\n",
       "    </tr>\n",
       "  </tbody>\n",
       "</table>\n",
       "</div>"
      ],
      "text/plain": [
       "   features  estimatedCoefficients\n",
       "0      CRIM              -0.107171\n",
       "1        ZN               0.046395\n",
       "2     INDUS               0.020860\n",
       "3      CHAS               2.688561\n",
       "4       NOX             -17.795759\n",
       "5        RM               3.804752\n",
       "6       AGE               0.000751\n",
       "7       DIS              -1.475759\n",
       "8       RAD               0.305655\n",
       "9       TAX              -0.012329\n",
       "10  PTRATIO              -0.953464\n",
       "11        B               0.009393\n",
       "12    LSTAT              -0.525467"
      ]
     },
     "execution_count": 56,
     "metadata": {},
     "output_type": "execute_result"
    }
   ],
   "source": [
    "# The coefficients\n",
    "pd.DataFrame({'features': X.columns, 'estimatedCoefficients': lm.coef_})[['features', 'estimatedCoefficients']]"
   ]
  },
  {
   "cell_type": "markdown",
   "metadata": {},
   "source": [
    "### Predict Prices \n",
    "\n",
    "We can calculate the predicted prices ($\\hat{Y}_i$) using `lm.predict`. \n",
    "\n",
    "$$ \\hat{Y}_i = \\hat{\\beta}_0 + \\hat{\\beta}_1 X_1 + \\ldots \\hat{\\beta}_{13} X_{13} $$"
   ]
  },
  {
   "cell_type": "code",
   "execution_count": 57,
   "metadata": {},
   "outputs": [
    {
     "data": {
      "text/plain": [
       "array([ 30.00821269,  25.0298606 ,  30.5702317 ,  28.60814055,  27.94288232])"
      ]
     },
     "execution_count": 57,
     "metadata": {},
     "output_type": "execute_result"
    }
   ],
   "source": [
    "# first five predicted prices\n",
    "lm.predict(X)[0:5]"
   ]
  },
  {
   "cell_type": "markdown",
   "metadata": {},
   "source": [
    "<div class=\"span5 alert alert-info\">\n",
    "<h3>Part 3 Checkup Exercise Set III</h3>\n",
    "\n",
    "<p><b>Exercise:</b> Histogram: Plot a histogram of all the predicted prices. Write a story about what you see. Describe the shape, center and spread of the distribution. Are there any outliers? What might be the reason for them? Should we do anything special with them?</p>\n",
    "\n",
    "<p><b>Exercise:</b> Scatterplot: Let's plot the true prices compared to the predicted prices to see they disagree (we did this with `statsmodels` before).</p>\n",
    "\n",
    "<p><b>Exercise:</b> We have looked at fitting a linear model in both `statsmodels` and `scikit-learn`. What are the advantages and disadvantages of each based on your exploration? Based on the information provided by both packages, what advantage does `statsmodels` provide?</p>\n",
    "</div>"
   ]
  },
  {
   "cell_type": "code",
   "execution_count": 58,
   "metadata": {},
   "outputs": [
    {
     "data": {
      "image/png": "[encoded data removed]",
      "text/plain": [
       "<matplotlib.figure.Figure at 0xedbf940>"
      ]
     },
     "metadata": {},
     "output_type": "display_data"
    }
   ],
   "source": [
    "# your turn\n",
    "prices = lm.predict(X)\n",
    "\n",
    "plt.hist(prices, bins=20)\n",
    "plt.xlabel('Price')\n",
    "plt.ylabel('Frequency')\n",
    "plt.show()"
   ]
  },
  {
   "cell_type": "markdown",
   "metadata": {},
   "source": [
    "The prices seem reasonably normally distributed, An outlier seems to be the value with a price in the negatives. It could have been inhereted and therefore have come with some money. I would still like to eliminate it, though I should look into why more"
   ]
  },
  {
   "cell_type": "code",
   "execution_count": 65,
   "metadata": {},
   "outputs": [
    {
     "data": {
      "image/png": "[encoded data removed]",
      "text/plain": [
       "<matplotlib.figure.Figure at 0xee90cf8>"
      ]
     },
     "metadata": {},
     "output_type": "display_data"
    }
   ],
   "source": [
    "plt.plot(prices,bos.PRICE, '.')\n",
    "plt.xlabel('Predicted price')\n",
    "plt.ylabel('Actual price')\n",
    "plt.axis([-10,60,-10,60])\n",
    "plt.show()"
   ]
  },
  {
   "cell_type": "code",
   "execution_count": null,
   "metadata": {},
   "outputs": [],
   "source": [
    "Statsmodel gives you a lot of feedback on the fit and sklearn allows you to remove the intercept."
   ]
  },
  {
   "cell_type": "markdown",
   "metadata": {},
   "source": [
    "### Evaluating the Model: Sum-of-Squares\n",
    "\n",
    "The partitioning of the sum-of-squares shows the variance in the predictions explained by the model and the variance that is attributed to error.\n",
    "\n",
    "$$TSS = ESS + RSS$$\n",
    "\n",
    "#### Residual Sum-of-Squares (aka $RSS$)\n",
    "\n",
    "The residual sum-of-squares is one of the basic ways of quantifying how much error exists in the fitted model. We will revisit this in a bit.\n",
    "\n",
    "$$ RSS = \\sum_{i=1}^N r_i^2 = \\sum_{i=1}^N \\left(y_i - \\left(\\beta_0 + \\beta_1 x_i\\right)\\right)^2 $$"
   ]
  },
  {
   "cell_type": "code",
   "execution_count": 66,
   "metadata": {},
   "outputs": [
    {
     "name": "stdout",
     "output_type": "stream",
     "text": [
      "11080.276284149884\n"
     ]
    }
   ],
   "source": [
    "print(np.sum((bos.PRICE - lm.predict(X)) ** 2))"
   ]
  },
  {
   "cell_type": "markdown",
   "metadata": {},
   "source": [
    "#### Explained Sum-of-Squares (aka $ESS$)\n",
    "\n",
    "The explained sum-of-squares measures the variance explained by the regression model.\n",
    "\n",
    "$$ESS = \\sum_{i=1}^N \\left( \\hat{y}_i - \\bar{y} \\right)^2 = \\sum_{i=1}^N \\left( \\left( \\hat{\\beta}_0 + \\hat{\\beta}_1 x_i \\right) - \\bar{y} \\right)^2$$"
   ]
  },
  {
   "cell_type": "code",
   "execution_count": 67,
   "metadata": {},
   "outputs": [
    {
     "name": "stdout",
     "output_type": "stream",
     "text": [
      "5.80189651524e-23\n"
     ]
    }
   ],
   "source": [
    "print(np.sum(lm.predict(X) - np.mean(bos.PRICE)) ** 2)"
   ]
  },
  {
   "cell_type": "markdown",
   "metadata": {},
   "source": [
    "### Evaluating the Model: The Coefficient of Determination ($R^2$)\n",
    "\n",
    "The coefficient of determination, $R^2$, tells us the percentage of the variance in the response variable $Y$ that can be explained by the linear regression model.\n",
    "\n",
    "$$ R^2 = \\frac{ESS}{TSS} $$\n",
    "\n",
    "The $R^2$ value is one of the most common metrics that people use in describing the quality of a model, but it is important to note that *$R^2$ increases artificially as a side-effect of increasing the number of independent variables.* While $R^2$ is reported in almost all statistical packages, another metric called the *adjusted $R^2$* is also provided as it takes into account the number of variables in the model, and can sometimes even be used for non-linear regression models!\n",
    "\n",
    "$$R_{adj}^2 = 1 - \\left( 1 - R^2 \\right) \\frac{N - 1}{N - K - 1} = R^2 - \\left( 1 - R^2 \\right) \\frac{K}{N - K - 1} = 1 - \\frac{\\frac{RSS}{DF_R}}{\\frac{TSS}{DF_T}}$$\n",
    "\n",
    "where $N$ is the number of observations, $K$ is the number of variables, $DF_R = N - K - 1$ is the degrees of freedom associated with the residual error and $DF_T = N - 1$ is the degrees of the freedom of the total error."
   ]
  },
  {
   "cell_type": "markdown",
   "metadata": {},
   "source": [
    "### Evaluating the Model: Mean Squared Error and the $F$-Statistic\n",
    "***\n",
    "The mean squared errors are just the *averages* of the sum-of-squares errors over their respective degrees of freedom.\n",
    "\n",
    "$$MSE = \\frac{ESS}{K}$$\n",
    "$$MSR = \\frac{RSS}{N-K-1}$$\n",
    "\n",
    "**Remember: ** Notation may vary across resources particularly the use of *R* and *E* in *RSS/ESS* and *MSR/MSE*. In some resources, E = explained and R = residual. In other resources, E = error and R = regression (explained). **This is a very important distinction that requires looking at the formula to determine which naming scheme is being used.**\n",
    "\n",
    "Given the MSR and MSE, we can now determine whether or not the entire model we just fit is even statistically significant. We use an $F$-test for this. The null hypothesis is that all of the $\\beta$ coefficients are zero, that is, none of them have any effect on $Y$. The alternative is that *at least one* $\\beta$ coefficient is nonzero, but it doesn't tell us which one in a multiple regression:\n",
    "\n",
    "$$H_0: \\beta_i = 0, \\mbox{for all $i$} \\\\\n",
    "H_A: \\beta_i > 0, \\mbox{for some $i$}$$ \n",
    "\n",
    "$$F = \\frac{MSR}{MSE} = \\left( \\frac{R^2}{1 - R^2} \\right) \\left( \\frac{N - K - 1}{K} \\right)$$\n",
    " \n",
    "Once we compute the $F$-statistic, we can use the $F$-distribution with $N-K$ and $K-1$ degrees of degrees of freedom to get a p-value.\n",
    "\n",
    "**Warning!** The $F$-statistic mentioned in this section is NOT the same as the F1-measure or F1-value discused in Unit 7."
   ]
  },
  {
   "cell_type": "markdown",
   "metadata": {},
   "source": [
    "<div class=\"span5 alert alert-info\">\n",
    "<h3>Part 3 Checkup Exercise Set IV</h3>\n",
    "\n",
    "<p>Let's look at the relationship between `PTRATIO` and housing price.</p>\n",
    "\n",
    "<p><b>Exercise:</b> Try fitting a linear regression model using only the 'PTRATIO' (pupil-teacher ratio by town) and interpret the intercept and the coefficients.</p>\n",
    "\n",
    "<p><b>Exercise:</b> Calculate (or extract) the $R^2$ value. What does it tell you?</p>\n",
    "\n",
    "<p><b>Exercise:</b> Compute the $F$-statistic. What does it tell you?</p>\n",
    "\n",
    "<p><b>Exercise:</b> Take a close look at the $F$-statistic and the $t$-statistic for the regression coefficient. What relationship do you notice? Note that this relationship only applies in *simple* linear regression models.</p>\n",
    "</div>"
   ]
  },
  {
   "cell_type": "code",
   "execution_count": 94,
   "metadata": {
    "collapsed": true
   },
   "outputs": [
    {
     "name": "stdout",
     "output_type": "stream",
     "text": [
      "Intercept:  62.3446274748\n",
      "Coefficient:  [-2.1571753]\n"
     ]
    }
   ],
   "source": [
    "# your turn\n",
    "lm_test = LinearRegression()\n",
    "PTrat=np.array(bos['PTRATIO']).reshape(-1, 1)\n",
    "\n",
    "lm_test.fit(PTrat, bos.PRICE)\n",
    "print('Intercept: ',lm_test.intercept_)\n",
    "print('Coefficient: ',lm_test.coef_)"
   ]
  },
  {
   "cell_type": "code",
   "execution_count": 89,
   "metadata": {},
   "outputs": [
    {
     "name": "stdout",
     "output_type": "stream",
     "text": [
      "0.257847318009\n"
     ]
    }
   ],
   "source": [
    "print(lm_test.score(np.array(PTrat).reshape(-1, 1), bos.PRICE))"
   ]
  },
  {
   "cell_type": "markdown",
   "metadata": {},
   "source": [
    "The R-squared value is .258, which mean the data is fairly correlated with the line (if it was 1 it would be a perfect match)"
   ]
  },
  {
   "cell_type": "code",
   "execution_count": 146,
   "metadata": {},
   "outputs": [
    {
     "name": "stdout",
     "output_type": "stream",
     "text": [
      "                            OLS Regression Results                            \n",
      "==============================================================================\n",
      "Dep. Variable:                  PRICE   R-squared:                       0.258\n",
      "Model:                            OLS   Adj. R-squared:                  0.256\n",
      "Method:                 Least Squares   F-statistic:                     175.1\n",
      "Date:                Wed, 21 Feb 2018   Prob (F-statistic):           1.61e-34\n",
      "Time:                        09:00:54   Log-Likelihood:                -1764.8\n",
      "No. Observations:                 506   AIC:                             3534.\n",
      "Df Residuals:                     504   BIC:                             3542.\n",
      "Df Model:                           1                                         \n",
      "Covariance Type:            nonrobust                                         \n",
      "==============================================================================\n",
      "                 coef    std err          t      P>|t|      [0.025      0.975]\n",
      "------------------------------------------------------------------------------\n",
      "Intercept     62.3446      3.029     20.581      0.000      56.393      68.296\n",
      "PTRATIO       -2.1572      0.163    -13.233      0.000      -2.477      -1.837\n",
      "==============================================================================\n",
      "Omnibus:                       92.924   Durbin-Watson:                   0.725\n",
      "Prob(Omnibus):                  0.000   Jarque-Bera (JB):              191.444\n",
      "Skew:                           1.001   Prob(JB):                     2.68e-42\n",
      "Kurtosis:                       5.252   Cond. No.                         160.\n",
      "==============================================================================\n",
      "\n",
      "Warnings:\n",
      "[1] Standard Errors assume that the covariance matrix of the errors is correctly specified.\n"
     ]
    }
   ],
   "source": [
    "#sklearn.metrics.fbeta_score\n",
    "test = ols('PRICE ~ PTRATIO',bos).fit()\n",
    "print(test.summary())"
   ]
  },
  {
   "cell_type": "markdown",
   "metadata": {},
   "source": [
    "The F-statistic is 175.1 the F statistic tells you if the model and data is correlated. the t value for the intercept is 20.581 and the PTRATIO is -13.233"
   ]
  },
  {
   "cell_type": "markdown",
   "metadata": {},
   "source": [
    "<div class=\"span5 alert alert-info\">\n",
    "<h3>Part 3 Checkup Exercise Set V</h3>\n",
    "\n",
    "<p>Fit a linear regression model using three independent variables</p>\n",
    "\n",
    "<ol>\n",
    "<li> 'CRIM' (per capita crime rate by town)\n",
    "<li> 'RM' (average number of rooms per dwelling)\n",
    "<li> 'PTRATIO' (pupil-teacher ratio by town)\n",
    "</ol>\n",
    "\n",
    "<p><b>Exercise:</b> Compute or extract the $F$-statistic. What does it tell you about the model?</p>\n",
    "\n",
    "<p><b>Exercise:</b> Compute or extract the $R^2$ statistic. What does it tell you about the model?</p>\n",
    "\n",
    "<p><b>Exercise:</b> Which variables in the model are significant in predicting house price? Write a story that interprets the coefficients.</p>\n",
    "</div>"
   ]
  },
  {
   "cell_type": "code",
   "execution_count": 100,
   "metadata": {},
   "outputs": [
    {
     "name": "stdout",
     "output_type": "stream",
     "text": [
      "                            OLS Regression Results                            \n",
      "==============================================================================\n",
      "Dep. Variable:                  PRICE   R-squared:                       0.149\n",
      "Model:                            OLS   Adj. R-squared:                  0.147\n",
      "Method:                 Least Squares   F-statistic:                     88.15\n",
      "Date:                Tue, 20 Feb 2018   Prob (F-statistic):           2.08e-19\n",
      "Time:                        20:03:50   Log-Likelihood:                -1799.5\n",
      "No. Observations:                 506   AIC:                             3603.\n",
      "Df Residuals:                     504   BIC:                             3611.\n",
      "Df Model:                           1                                         \n",
      "Covariance Type:            nonrobust                                         \n",
      "==============================================================================\n",
      "                 coef    std err          t      P>|t|      [0.025      0.975]\n",
      "------------------------------------------------------------------------------\n",
      "Intercept     24.0162      0.409     58.676      0.000      23.212      24.820\n",
      "CRIM          -0.4128      0.044     -9.389      0.000      -0.499      -0.326\n",
      "==============================================================================\n",
      "Omnibus:                      138.965   Durbin-Watson:                   0.712\n",
      "Prob(Omnibus):                  0.000   Jarque-Bera (JB):              292.343\n",
      "Skew:                           1.483   Prob(JB):                     3.30e-64\n",
      "Kurtosis:                       5.251   Cond. No.                         10.1\n",
      "==============================================================================\n",
      "\n",
      "Warnings:\n",
      "[1] Standard Errors assume that the covariance matrix of the errors is correctly specified.\n",
      "                            OLS Regression Results                            \n",
      "==============================================================================\n",
      "Dep. Variable:                  PRICE   R-squared:                       0.484\n",
      "Model:                            OLS   Adj. R-squared:                  0.483\n",
      "Method:                 Least Squares   F-statistic:                     471.8\n",
      "Date:                Tue, 20 Feb 2018   Prob (F-statistic):           2.49e-74\n",
      "Time:                        20:03:50   Log-Likelihood:                -1673.1\n",
      "No. Observations:                 506   AIC:                             3350.\n",
      "Df Residuals:                     504   BIC:                             3359.\n",
      "Df Model:                           1                                         \n",
      "Covariance Type:            nonrobust                                         \n",
      "==============================================================================\n",
      "                 coef    std err          t      P>|t|      [0.025      0.975]\n",
      "------------------------------------------------------------------------------\n",
      "Intercept    -34.6706      2.650    -13.084      0.000     -39.877     -29.465\n",
      "RM             9.1021      0.419     21.722      0.000       8.279       9.925\n",
      "==============================================================================\n",
      "Omnibus:                      102.585   Durbin-Watson:                   0.684\n",
      "Prob(Omnibus):                  0.000   Jarque-Bera (JB):              612.449\n",
      "Skew:                           0.726   Prob(JB):                    1.02e-133\n",
      "Kurtosis:                       8.190   Cond. No.                         58.4\n",
      "==============================================================================\n",
      "\n",
      "Warnings:\n",
      "[1] Standard Errors assume that the covariance matrix of the errors is correctly specified.\n",
      "                            OLS Regression Results                            \n",
      "==============================================================================\n",
      "Dep. Variable:                  PRICE   R-squared:                       0.258\n",
      "Model:                            OLS   Adj. R-squared:                  0.256\n",
      "Method:                 Least Squares   F-statistic:                     175.1\n",
      "Date:                Tue, 20 Feb 2018   Prob (F-statistic):           1.61e-34\n",
      "Time:                        20:03:50   Log-Likelihood:                -1764.8\n",
      "No. Observations:                 506   AIC:                             3534.\n",
      "Df Residuals:                     504   BIC:                             3542.\n",
      "Df Model:                           1                                         \n",
      "Covariance Type:            nonrobust                                         \n",
      "==============================================================================\n",
      "                 coef    std err          t      P>|t|      [0.025      0.975]\n",
      "------------------------------------------------------------------------------\n",
      "Intercept     62.3446      3.029     20.581      0.000      56.393      68.296\n",
      "PTRATIO       -2.1572      0.163    -13.233      0.000      -2.477      -1.837\n",
      "==============================================================================\n",
      "Omnibus:                       92.924   Durbin-Watson:                   0.725\n",
      "Prob(Omnibus):                  0.000   Jarque-Bera (JB):              191.444\n",
      "Skew:                           1.001   Prob(JB):                     2.68e-42\n",
      "Kurtosis:                       5.252   Cond. No.                         160.\n",
      "==============================================================================\n",
      "\n",
      "Warnings:\n",
      "[1] Standard Errors assume that the covariance matrix of the errors is correctly specified.\n"
     ]
    }
   ],
   "source": [
    "# your turn\n",
    "CRIM = ols('PRICE ~ CRIM',bos).fit()\n",
    "RM = ols('PRICE ~ RM',bos).fit()\n",
    "PTRATIO = ols('PRICE ~ PTRATIO',bos).fit()\n",
    "print(CRIM.summary())\n",
    "print(RM.summary())\n",
    "print(PTRATIO.summary())"
   ]
  },
  {
   "cell_type": "code",
   "execution_count": 145,
   "metadata": {},
   "outputs": [
    {
     "name": "stdout",
     "output_type": "stream",
     "text": [
      "                            OLS Regression Results                            \n",
      "==============================================================================\n",
      "Dep. Variable:                  PRICE   R-squared:                       0.593\n",
      "Model:                            OLS   Adj. R-squared:                  0.591\n",
      "Method:                 Least Squares   F-statistic:                     244.2\n",
      "Date:                Wed, 21 Feb 2018   Prob (F-statistic):           1.09e-97\n",
      "Time:                        09:00:43   Log-Likelihood:                -1612.6\n",
      "No. Observations:                 506   AIC:                             3233.\n",
      "Df Residuals:                     502   BIC:                             3250.\n",
      "Df Model:                           3                                         \n",
      "Covariance Type:            nonrobust                                         \n",
      "==============================================================================\n",
      "                 coef    std err          t      P>|t|      [0.025      0.975]\n",
      "------------------------------------------------------------------------------\n",
      "Intercept     -3.3066      4.038     -0.819      0.413     -11.240       4.627\n",
      "CRIM          -0.2021      0.032     -6.301      0.000      -0.265      -0.139\n",
      "RM             7.3816      0.402     18.360      0.000       6.592       8.171\n",
      "PTRATIO       -1.0742      0.133     -8.081      0.000      -1.335      -0.813\n",
      "==============================================================================\n",
      "Omnibus:                      233.249   Durbin-Watson:                   0.828\n",
      "Prob(Omnibus):                  0.000   Jarque-Bera (JB):             2002.374\n",
      "Skew:                           1.802   Prob(JB):                         0.00\n",
      "Kurtosis:                      12.054   Cond. No.                         311.\n",
      "==============================================================================\n",
      "\n",
      "Warnings:\n",
      "[1] Standard Errors assume that the covariance matrix of the errors is correctly specified.\n"
     ]
    }
   ],
   "source": [
    "three = ols('PRICE ~ CRIM + RM + PTRATIO',bos).fit()\n",
    "print(three.summary())"
   ]
  },
  {
   "cell_type": "markdown",
   "metadata": {},
   "source": [
    "The F-statistic is 244.2 and the R- squared value is .593. The R value means the data is fairly correleated with the linear fit (if it was 1 it would be a perfect fit).\n",
    "\n",
    "The Room numbers has the most influence, since its coeffiecient is the largest absolute value of the 3 coefficients."
   ]
  },
  {
   "cell_type": "markdown",
   "metadata": {},
   "source": [
    "## Part 4: Comparing Models"
   ]
  },
  {
   "cell_type": "markdown",
   "metadata": {},
   "source": [
    "During modeling, there will be times when we want to compare models to see which one is more predictive or fits the data better. There are many ways to compare models, but we will focus on two."
   ]
  },
  {
   "cell_type": "markdown",
   "metadata": {},
   "source": [
    "### The $F$-Statistic Revisited\n",
    "\n",
    "The $F$-statistic can also be used to compare two *nested* models, that is, two models trained on the same dataset where one of the models contains a *subset* of the variables of the other model. The *full* model contains $K$ variables and the *reduced* model contains a subset of these $K$ variables. This allows us to add additional variables to a base model and then test if adding the variables helped the model fit.\n",
    "\n",
    "$$F = \\frac{\\left( \\frac{RSS_{reduced} - RSS_{full}}{DF_{reduced} - DF_{full}} \\right)}{\\left( \\frac{RSS_{full}}{DF_{full}} \\right)}$$\n",
    "\n",
    "where $DF_x = N - K_x - 1$ where $K_x$ is the number of variables in model $x$."
   ]
  },
  {
   "cell_type": "markdown",
   "metadata": {},
   "source": [
    "### Akaike Information Criterion (AIC)\n",
    "\n",
    "Another statistic for comparing two models is AIC, which is based on the likelihood function and takes into account the number of variables in the model.\n",
    "\n",
    "$$AIC = 2 K - 2 \\log_e{L}$$\n",
    "\n",
    "where $L$ is the likelihood of the model. AIC is meaningless in the absolute sense, and is only meaningful when compared to AIC values from other models. Lower values of AIC indicate better fitting models.\n",
    "\n",
    "`statsmodels` provides the AIC in its output."
   ]
  },
  {
   "cell_type": "markdown",
   "metadata": {},
   "source": [
    "<div class=\"span5 alert alert-info\">\n",
    "<h3>Part 4 Checkup Exercises</h3>\n",
    "\n",
    "<p><b>Exercise:</b> Find another variable (or two) to add to the model we built in Part 3. Compute the $F$-test comparing the two models as well as the AIC. Which model is better?</p>\n",
    "</div>"
   ]
  },
  {
   "cell_type": "markdown",
   "metadata": {},
   "source": [
    "\n",
    "## Part 5: Evaluating the Model via Model Assumptions and Other Issues\n",
    "***\n",
    "Linear regression makes several assumptions. It is always best to check that these assumptions are valid after fitting a linear regression model.\n",
    "\n",
    "<div class=\"span5 alert alert-danger\">\n",
    "<ul>\n",
    "  <li>**Linearity**. The dependent variable $Y$ is a linear combination of the regression coefficients and the independent variables $X$. This can be verified with a scatterplot of each $X$ vs. $Y$ and plotting correlations among $X$. Nonlinearity can sometimes be resolved by [transforming](https://onlinecourses.science.psu.edu/stat501/node/318) one or more independent variables, the dependent variable, or both. In other cases, a [generalized linear model](https://en.wikipedia.org/wiki/Generalized_linear_model) or a [nonlinear model](https://en.wikipedia.org/wiki/Nonlinear_regression) may be warranted.</li>\n",
    "  <li>**Constant standard deviation**. The SD of the dependent variable $Y$ should be constant for different values of X. We can check this by plotting each $X$ against $Y$ and verifying that there is no \"funnel\" shape showing data points fanning out as $X$ increases or decreases. Some techniques for dealing with non-constant variance include weighted least squares (WLS), [robust standard errors](https://en.wikipedia.org/wiki/Heteroscedasticity-consistent_standard_errors), or variance stabilizing transformations.\n",
    "    </li>\n",
    "  <li> **Normal distribution for errors**.  The $\\epsilon$ term we discussed at the beginning are assumed to be normally distributed. This can be verified with a fitted values vs. residuals plot and verifying that there is no pattern, and with a quantile plot.\n",
    "  $$ \\epsilon_i \\sim N(0, \\sigma^2)$$\n",
    "Sometimes the distributions of responses $Y$ may not be normally distributed at any given value of $X$.  e.g. skewed positively or negatively. </li>\n",
    "<li> **Independent errors**.  The observations are assumed to be obtained independently.\n",
    "    <ul>\n",
    "        <li>e.g. Observations across time may be correlated\n",
    "    </ul>\n",
    "</li>\n",
    "</ul>  \n",
    "\n",
    "</div>\n",
    "\n",
    "There are some other issues that are important investigate with linear regression models.\n",
    "\n",
    "<div class=\"span5 alert alert-danger\">\n",
    "<ul>\n",
    "  <li>**Correlated Predictors:** Care should be taken to make sure that the independent variables in a regression model are not too highly correlated. Correlated predictors typically do not majorly affect prediction, but do inflate standard errors of coefficients making interpretation unreliable. Common solutions are dropping the least important variables involved in the correlations, using regularlization, or, when many predictors are highly correlated, considering a dimension reduction technique such as principal component analysis (PCA).\n",
    "  <li>**Influential Points:** Data points that have undue influence on the regression model. These points can be high leverage points or outliers. Such points are typically removed and the regression model rerun.\n",
    "</ul>\n",
    "</div>\n"
   ]
  },
  {
   "cell_type": "markdown",
   "metadata": {},
   "source": [
    "<div class=\"span5 alert alert-info\">\n",
    "<h3>Part 5 Checkup Exercises</h3>\n",
    "\n",
    "<p>Take the reduced model from Part 3 to answer the following exercises. Take a look at [this blog post](http://mpastell.com/2013/04/19/python_regression/) for more information on using statsmodels to construct these plots.</p>\n",
    "    \n",
    "<p><b>Exercise:</b> Construct a fitted values versus residuals plot. What does the plot tell you? Are there any violations of the model assumptions?</p>\n",
    "\n",
    "<p><b>Exercise:</b> Construct a quantile plot of the residuals. What does the plot tell you?</p>\n",
    "\n",
    "<p><b>Exercise:</b> What are some advantages and disadvantages of the fitted vs. residual and quantile plot compared to each other?</p>\n",
    "\n",
    "<p><b>Exercise:</b> Identify any outliers (if any) in your model and write a story describing what these outliers might represent.</p>\n",
    "\n",
    "<p><b>Exercise:</b> Construct a leverage plot and identify high leverage points in the model. Write a story explaining possible reasons for the high leverage points.</p>\n",
    "\n",
    "<p><b>Exercise:</b> Remove the outliers and high leverage points from your model and run the regression again. How do the results change?</p>\n",
    "</div>"
   ]
  },
  {
   "cell_type": "code",
   "execution_count": 138,
   "metadata": {
    "collapsed": true
   },
   "outputs": [
    {
     "data": {
      "image/png": "[encoded data removed]",
      "text/plain": [
       "<matplotlib.figure.Figure at 0xf6a3d68>"
      ]
     },
     "metadata": {},
     "output_type": "display_data"
    },
    {
     "data": {
      "image/png": "[encoded data removed]",
      "text/plain": [
       "<matplotlib.figure.Figure at 0xee30c88>"
      ]
     },
     "metadata": {},
     "output_type": "display_data"
    },
    {
     "data": {
      "image/png": "[encoded data removed]",
      "text/plain": [
       "<matplotlib.figure.Figure at 0xbfbba58>"
      ]
     },
     "metadata": {},
     "output_type": "display_data"
    }
   ],
   "source": [
    "# Your turn.\n",
    "plt.plot(X['CRIM'],bos.PRICE-three.fittedvalues, 'ro')\n",
    "plt.xlabel('Crime per capita')\n",
    "plt.ylabel('Price Residuals')\n",
    "plt.show()\n",
    "\n",
    "plt.plot(X['RM'],bos.PRICE-three.fittedvalues, 'ro')\n",
    "plt.xlabel('Rooms per home')\n",
    "plt.ylabel('Price Residuals')\n",
    "plt.show()\n",
    "\n",
    "plt.plot(X['PTRATIO'],bos.PRICE-three.fittedvalues, 'ro')\n",
    "plt.xlabel('Pupil Teacher Ratio')\n",
    "plt.ylabel('Price Residuals')\n",
    "plt.show()"
   ]
  },
  {
   "cell_type": "code",
   "execution_count": 121,
   "metadata": {},
   "outputs": [
    {
     "data": {
      "image/png": "[encoded data removed]",
      "text/plain": [
       "<matplotlib.figure.Figure at 0xf311e10>"
      ]
     },
     "metadata": {},
     "output_type": "display_data"
    }
   ],
   "source": [
    "plt.hist(three.resid_pearson)\n",
    "plt.ylabel('Count')\n",
    "plt.xlabel('Normalized residuals')\n",
    "plt.show()"
   ]
  },
  {
   "cell_type": "code",
   "execution_count": 132,
   "metadata": {},
   "outputs": [
    {
     "data": {
      "image/png": "[encoded data removed]",
      "text/plain": [
       "<matplotlib.figure.Figure at 0xef62710>"
      ]
     },
     "metadata": {},
     "output_type": "display_data"
    }
   ],
   "source": [
    "plt.plot(bos.PRICE,three.fittedvalues, 'ro')\n",
    "plt.plot(range(50),range(50),'b')\n",
    "plt.xlabel('Actual Price')\n",
    "plt.ylabel('Predicted Price')\n",
    "plt.title('Quantile Plot')\n",
    "plt.show()"
   ]
  },
  {
   "cell_type": "markdown",
   "metadata": {},
   "source": [
    "The Residual versus fitted plot allows you to see if it is normally distributed around the prediction and the quantile plot shows how well the prediction fits the data.\n",
    "\n",
    "The homes with Residuals Price above 20 seem to be outliers because for all the residual plots they are not normally distributed, which means they don't fit the linear model. Those points could have another factor such as being near public transportation or in the city that drive the price up."
   ]
  },
  {
   "cell_type": "code",
   "execution_count": 142,
   "metadata": {},
   "outputs": [],
   "source": [
    "bos_outlierless = bos[bos.PRICE-three.fittedvalues<20]"
   ]
  },
  {
   "cell_type": "code",
   "execution_count": null,
   "metadata": {},
   "outputs": [],
   "source": [
    "leverage"
   ]
  },
  {
   "cell_type": "code",
   "execution_count": 156,
   "metadata": {},
   "outputs": [
    {
     "data": {
      "image/png": "[encoded data removed]",
      "text/plain": [
       "<matplotlib.figure.Figure at 0xc2d9f28>"
      ]
     },
     "execution_count": 156,
     "metadata": {},
     "output_type": "execute_result"
    }
   ],
   "source": [
    "sm.graphics.influence_plot(three, criterion=\"cooks\")"
   ]
  },
  {
   "cell_type": "markdown",
   "metadata": {},
   "source": [
    "The High leverage points match up with the residual outliers but also have one point of the low sid of the studentized residuals at (.04, -3)"
   ]
  },
  {
   "cell_type": "code",
   "execution_count": 144,
   "metadata": {},
   "outputs": [
    {
     "name": "stdout",
     "output_type": "stream",
     "text": [
      "                            OLS Regression Results                            \n",
      "==============================================================================\n",
      "Dep. Variable:                  PRICE   R-squared:                       0.718\n",
      "Model:                            OLS   Adj. R-squared:                  0.716\n",
      "Method:                 Least Squares   F-statistic:                     419.5\n",
      "Date:                Wed, 21 Feb 2018   Prob (F-statistic):          1.70e-135\n",
      "Time:                        09:00:22   Log-Likelihood:                -1479.2\n",
      "No. Observations:                 499   AIC:                             2966.\n",
      "Df Residuals:                     495   BIC:                             2983.\n",
      "Df Model:                           3                                         \n",
      "Covariance Type:            nonrobust                                         \n",
      "==============================================================================\n",
      "                 coef    std err          t      P>|t|      [0.025      0.975]\n",
      "------------------------------------------------------------------------------\n",
      "Intercept     -6.1637      3.296     -1.870      0.062     -12.640       0.313\n",
      "CRIM          -0.2063      0.026     -8.025      0.000      -0.257      -0.156\n",
      "RM             8.0054      0.333     24.069      0.000       7.352       8.659\n",
      "PTRATIO       -1.1537      0.107    -10.801      0.000      -1.364      -0.944\n",
      "==============================================================================\n",
      "Omnibus:                       12.541   Durbin-Watson:                   1.097\n",
      "Prob(Omnibus):                  0.002   Jarque-Bera (JB):               24.150\n",
      "Skew:                           0.009   Prob(JB):                     5.70e-06\n",
      "Kurtosis:                       4.078   Cond. No.                         315.\n",
      "==============================================================================\n",
      "\n",
      "Warnings:\n",
      "[1] Standard Errors assume that the covariance matrix of the errors is correctly specified.\n"
     ]
    }
   ],
   "source": [
    "three_outlierless = ols('PRICE ~ CRIM + RM + PTRATIO',bos_outlierless).fit()\n",
    "print(three.summary())"
   ]
  },
  {
   "cell_type": "markdown",
   "metadata": {},
   "source": [
    "The R-squared value of the new model has increase signifigantly ~20%. "
   ]
  },
  {
   "cell_type": "code",
   "execution_count": 159,
   "metadata": {},
   "outputs": [
    {
     "data": {
      "image/png": "[encoded data removed]",
      "text/plain": [
       "<matplotlib.figure.Figure at 0xf908390>"
      ]
     },
     "metadata": {},
     "output_type": "display_data"
    },
    {
     "data": {
      "image/png": "[encoded data removed]",
      "text/plain": [
       "<matplotlib.figure.Figure at 0xf287470>"
      ]
     },
     "metadata": {},
     "output_type": "display_data"
    },
    {
     "data": {
      "image/png": "[encoded data removed]",
      "text/plain": [
       "<matplotlib.figure.Figure at 0xf1fe8d0>"
      ]
     },
     "metadata": {},
     "output_type": "display_data"
    }
   ],
   "source": [
    "plt.plot(X['CRIM'],bos.PRICE-three_outlierless.fittedvalues, 'ro')\n",
    "plt.xlabel('Crime per capita')\n",
    "plt.ylabel('Price Residuals')\n",
    "plt.show()\n",
    "\n",
    "plt.plot(X['RM'],bos.PRICE-three_outlierless.fittedvalues, 'ro')\n",
    "plt.xlabel('Rooms per home')\n",
    "plt.ylabel('Price Residuals')\n",
    "plt.show()\n",
    "\n",
    "plt.plot(X['PTRATIO'],bos.PRICE-three_outlierless.fittedvalues, 'ro')\n",
    "plt.xlabel('Pupil Teacher Ratio')\n",
    "plt.ylabel('Price Residuals')\n",
    "plt.show()"
   ]
  },
  {
   "cell_type": "markdown",
   "metadata": {},
   "source": [
    "Now the data is much more evenly distributed about mean, but the labeled outlier points should still be explored for the reason why they are outliers."
   ]
  }
 ],
 "metadata": {
  "kernelspec": {
   "display_name": "Python 3",
   "language": "python",
   "name": "python3"
  },
  "language_info": {
   "codemirror_mode": {
    "name": "ipython",
    "version": 3
   },
   "file_extension": ".py",
   "mimetype": "text/x-python",
   "name": "python",
   "nbconvert_exporter": "python",
   "pygments_lexer": "ipython3",
   "version": "3.6.3"
  }
 },
 "nbformat": 4,
 "nbformat_minor": 2
}
